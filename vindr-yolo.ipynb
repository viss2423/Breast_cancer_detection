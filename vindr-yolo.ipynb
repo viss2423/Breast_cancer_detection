{
 "cells": [
  {
   "cell_type": "code",
   "execution_count": 1,
   "id": "3346e0dd",
   "metadata": {
    "_cell_guid": "b1076dfc-b9ad-4769-8c92-a6c4dae69d19",
    "_uuid": "8f2839f25d086af736a60e9eeb907d3b93b6e0e5",
    "execution": {
     "iopub.execute_input": "2024-03-25T16:02:21.654675Z",
     "iopub.status.busy": "2024-03-25T16:02:21.654323Z",
     "iopub.status.idle": "2024-03-25T16:02:58.485551Z",
     "shell.execute_reply": "2024-03-25T16:02:58.484544Z"
    },
    "papermill": {
     "duration": 36.842093,
     "end_time": "2024-03-25T16:02:58.488039",
     "exception": false,
     "start_time": "2024-03-25T16:02:21.645946",
     "status": "completed"
    },
    "tags": []
   },
   "outputs": [
    {
     "name": "stdout",
     "output_type": "stream",
     "text": [
      "\u001b[33mWARNING: Skipping enum34 as it is not installed.\u001b[0m\u001b[33m\r\n",
      "\u001b[0mRequirement already satisfied: pip in /opt/conda/lib/python3.10/site-packages (23.3.2)\r\n",
      "Collecting pip\r\n",
      "  Downloading pip-24.0-py3-none-any.whl.metadata (3.6 kB)\r\n",
      "Requirement already satisfied: setuptools in /opt/conda/lib/python3.10/site-packages (69.0.3)\r\n",
      "Collecting setuptools\r\n",
      "  Downloading setuptools-69.2.0-py3-none-any.whl.metadata (6.3 kB)\r\n",
      "Requirement already satisfied: wheel in /opt/conda/lib/python3.10/site-packages (0.42.0)\r\n",
      "Collecting wheel\r\n",
      "  Downloading wheel-0.43.0-py3-none-any.whl.metadata (2.2 kB)\r\n",
      "Downloading pip-24.0-py3-none-any.whl (2.1 MB)\r\n",
      "\u001b[2K   \u001b[90m━━━━━━━━━━━━━━━━━━━━━━━━━━━━━━━━━━━━━━━━\u001b[0m \u001b[32m2.1/2.1 MB\u001b[0m \u001b[31m50.5 MB/s\u001b[0m eta \u001b[36m0:00:00\u001b[0m\r\n",
      "\u001b[?25hDownloading setuptools-69.2.0-py3-none-any.whl (821 kB)\r\n",
      "\u001b[2K   \u001b[90m━━━━━━━━━━━━━━━━━━━━━━━━━━━━━━━━━━━━━━━━\u001b[0m \u001b[32m821.5/821.5 kB\u001b[0m \u001b[31m39.3 MB/s\u001b[0m eta \u001b[36m0:00:00\u001b[0m\r\n",
      "\u001b[?25hDownloading wheel-0.43.0-py3-none-any.whl (65 kB)\r\n",
      "\u001b[2K   \u001b[90m━━━━━━━━━━━━━━━━━━━━━━━━━━━━━━━━━━━━━━━━\u001b[0m \u001b[32m65.8/65.8 kB\u001b[0m \u001b[31m4.0 MB/s\u001b[0m eta \u001b[36m0:00:00\u001b[0m\r\n",
      "\u001b[?25hInstalling collected packages: wheel, setuptools, pip\r\n",
      "  Attempting uninstall: wheel\r\n",
      "    Found existing installation: wheel 0.42.0\r\n",
      "    Uninstalling wheel-0.42.0:\r\n",
      "      Successfully uninstalled wheel-0.42.0\r\n",
      "  Attempting uninstall: setuptools\r\n",
      "    Found existing installation: setuptools 69.0.3\r\n",
      "    Uninstalling setuptools-69.0.3:\r\n",
      "      Successfully uninstalled setuptools-69.0.3\r\n",
      "  Attempting uninstall: pip\r\n",
      "    Found existing installation: pip 23.3.2\r\n",
      "    Uninstalling pip-23.3.2:\r\n",
      "      Successfully uninstalled pip-23.3.2\r\n",
      "\u001b[31mERROR: pip's dependency resolver does not currently take into account all the packages that are installed. This behaviour is the source of the following dependency conflicts.\r\n",
      "tensorflow-decision-forests 1.8.1 requires wurlitzer, which is not installed.\r\n",
      "tensorflow 2.15.0 requires keras<2.16,>=2.15.0, but you have keras 3.0.5 which is incompatible.\u001b[0m\u001b[31m\r\n",
      "\u001b[0mSuccessfully installed pip-24.0 setuptools-69.2.0 wheel-0.43.0\r\n",
      "Get:1 https://developer.download.nvidia.com/compute/cuda/repos/ubuntu2004/x86_64  InRelease [1581 B]\r\n",
      "Get:2 https://developer.download.nvidia.com/compute/cuda/repos/ubuntu2004/x86_64  Packages [1463 kB]\r\n",
      "Hit:3 http://archive.ubuntu.com/ubuntu focal InRelease\r\n",
      "Get:4 http://security.ubuntu.com/ubuntu focal-security InRelease [114 kB]\r\n",
      "Get:5 http://archive.ubuntu.com/ubuntu focal-updates InRelease [114 kB]\r\n",
      "Get:6 https://packages.cloud.google.com/apt gcsfuse-focal InRelease [1225 B]\r\n",
      "Get:7 https://packages.cloud.google.com/apt cloud-sdk InRelease [6361 B]\r\n",
      "Get:8 https://packages.cloud.google.com/apt google-fast-socket InRelease [5015 B]\r\n",
      "Get:9 https://packages.cloud.google.com/apt cloud-sdk/main amd64 Packages [621 kB]\r\n",
      "Hit:10 http://archive.ubuntu.com/ubuntu focal-backports InRelease\r\n",
      "Get:11 http://archive.ubuntu.com/ubuntu focal-updates/main amd64 Packages [3971 kB]\r\n",
      "Get:12 http://security.ubuntu.com/ubuntu focal-security/restricted amd64 Packages [3424 kB]\r\n",
      "Get:13 http://archive.ubuntu.com/ubuntu focal-updates/universe amd64 Packages [1489 kB]\r\n",
      "Get:14 http://archive.ubuntu.com/ubuntu focal-updates/restricted amd64 Packages [3582 kB]\r\n",
      "Get:15 http://security.ubuntu.com/ubuntu focal-security/universe amd64 Packages [1194 kB]\r\n",
      "Get:16 http://security.ubuntu.com/ubuntu focal-security/main amd64 Packages [3493 kB]\r\n",
      "Fetched 19.5 MB in 4s (4552 kB/s)\r\n",
      "\r\n",
      "\r\n",
      "\r\n",
      "\r\n",
      "libsm6 is already the newest version (2:1.2.3-1).\r\n",
      "libxext6 is already the newest version (2:1.3.4-0ubuntu1).\r\n",
      "ffmpeg is already the newest version (7:4.2.7-0ubuntu0.1).\r\n",
      "0 upgraded, 0 newly installed, 0 to remove and 51 not upgraded.\r\n"
     ]
    }
   ],
   "source": [
    "!pip uninstall -y enum34 && pip install --upgrade pip setuptools wheel && apt-get update && apt-get install ffmpeg libsm6 libxext6  -y"
   ]
  },
  {
   "cell_type": "code",
   "execution_count": 2,
   "id": "3085d382",
   "metadata": {
    "execution": {
     "iopub.execute_input": "2024-03-25T16:02:58.517327Z",
     "iopub.status.busy": "2024-03-25T16:02:58.516985Z",
     "iopub.status.idle": "2024-03-25T16:02:59.467994Z",
     "shell.execute_reply": "2024-03-25T16:02:59.466848Z"
    },
    "papermill": {
     "duration": 0.968345,
     "end_time": "2024-03-25T16:02:59.470392",
     "exception": false,
     "start_time": "2024-03-25T16:02:58.502047",
     "status": "completed"
    },
    "tags": []
   },
   "outputs": [
    {
     "name": "stdout",
     "output_type": "stream",
     "text": [
      "Python 3.10.13\r\n"
     ]
    }
   ],
   "source": [
    "!python --version\n"
   ]
  },
  {
   "cell_type": "code",
   "execution_count": 3,
   "id": "d65b4022",
   "metadata": {
    "execution": {
     "iopub.execute_input": "2024-03-25T16:02:59.500286Z",
     "iopub.status.busy": "2024-03-25T16:02:59.499410Z",
     "iopub.status.idle": "2024-03-25T16:03:11.952405Z",
     "shell.execute_reply": "2024-03-25T16:03:11.951444Z"
    },
    "papermill": {
     "duration": 12.470889,
     "end_time": "2024-03-25T16:03:11.954791",
     "exception": false,
     "start_time": "2024-03-25T16:02:59.483902",
     "status": "completed"
    },
    "tags": []
   },
   "outputs": [
    {
     "name": "stdout",
     "output_type": "stream",
     "text": [
      "Requirement already satisfied: wandb in /opt/conda/lib/python3.10/site-packages (0.16.4)\r\n",
      "Requirement already satisfied: Click!=8.0.0,>=7.1 in /opt/conda/lib/python3.10/site-packages (from wandb) (8.1.7)\r\n",
      "Requirement already satisfied: GitPython!=3.1.29,>=1.0.0 in /opt/conda/lib/python3.10/site-packages (from wandb) (3.1.41)\r\n",
      "Requirement already satisfied: requests<3,>=2.0.0 in /opt/conda/lib/python3.10/site-packages (from wandb) (2.31.0)\r\n",
      "Requirement already satisfied: psutil>=5.0.0 in /opt/conda/lib/python3.10/site-packages (from wandb) (5.9.3)\r\n",
      "Requirement already satisfied: sentry-sdk>=1.0.0 in /opt/conda/lib/python3.10/site-packages (from wandb) (1.42.0)\r\n",
      "Requirement already satisfied: docker-pycreds>=0.4.0 in /opt/conda/lib/python3.10/site-packages (from wandb) (0.4.0)\r\n",
      "Requirement already satisfied: PyYAML in /opt/conda/lib/python3.10/site-packages (from wandb) (6.0.1)\r\n",
      "Requirement already satisfied: setproctitle in /opt/conda/lib/python3.10/site-packages (from wandb) (1.3.3)\r\n",
      "Requirement already satisfied: setuptools in /opt/conda/lib/python3.10/site-packages (from wandb) (69.2.0)\r\n",
      "Requirement already satisfied: appdirs>=1.4.3 in /opt/conda/lib/python3.10/site-packages (from wandb) (1.4.4)\r\n",
      "Requirement already satisfied: protobuf!=4.21.0,<5,>=3.19.0 in /opt/conda/lib/python3.10/site-packages (from wandb) (3.20.3)\r\n",
      "Requirement already satisfied: six>=1.4.0 in /opt/conda/lib/python3.10/site-packages (from docker-pycreds>=0.4.0->wandb) (1.16.0)\r\n",
      "Requirement already satisfied: gitdb<5,>=4.0.1 in /opt/conda/lib/python3.10/site-packages (from GitPython!=3.1.29,>=1.0.0->wandb) (4.0.11)\r\n",
      "Requirement already satisfied: charset-normalizer<4,>=2 in /opt/conda/lib/python3.10/site-packages (from requests<3,>=2.0.0->wandb) (3.3.2)\r\n",
      "Requirement already satisfied: idna<4,>=2.5 in /opt/conda/lib/python3.10/site-packages (from requests<3,>=2.0.0->wandb) (3.6)\r\n",
      "Requirement already satisfied: urllib3<3,>=1.21.1 in /opt/conda/lib/python3.10/site-packages (from requests<3,>=2.0.0->wandb) (1.26.18)\r\n",
      "Requirement already satisfied: certifi>=2017.4.17 in /opt/conda/lib/python3.10/site-packages (from requests<3,>=2.0.0->wandb) (2024.2.2)\r\n",
      "Requirement already satisfied: smmap<6,>=3.0.1 in /opt/conda/lib/python3.10/site-packages (from gitdb<5,>=4.0.1->GitPython!=3.1.29,>=1.0.0->wandb) (5.0.1)\r\n"
     ]
    }
   ],
   "source": [
    "!pip install wandb --upgrade"
   ]
  },
  {
   "cell_type": "code",
   "execution_count": 4,
   "id": "0d1a73c1",
   "metadata": {
    "execution": {
     "iopub.execute_input": "2024-03-25T16:03:11.984042Z",
     "iopub.status.busy": "2024-03-25T16:03:11.983725Z",
     "iopub.status.idle": "2024-03-25T16:03:15.039368Z",
     "shell.execute_reply": "2024-03-25T16:03:15.038202Z"
    },
    "papermill": {
     "duration": 3.073294,
     "end_time": "2024-03-25T16:03:15.041915",
     "exception": false,
     "start_time": "2024-03-25T16:03:11.968621",
     "status": "completed"
    },
    "tags": []
   },
   "outputs": [
    {
     "name": "stdout",
     "output_type": "stream",
     "text": [
      "Cloning into 'yolov5'...\r\n",
      "remote: Enumerating objects: 16522, done.\u001b[K\r\n",
      "remote: Counting objects: 100% (120/120), done.\u001b[K\r\n",
      "remote: Compressing objects: 100% (104/104), done.\u001b[K\r\n",
      "remote: Total 16522 (delta 50), reused 52 (delta 16), pack-reused 16402\u001b[K\r\n",
      "Receiving objects: 100% (16522/16522), 15.18 MiB | 19.24 MiB/s, done.\r\n",
      "Resolving deltas: 100% (11310/11310), done.\r\n"
     ]
    }
   ],
   "source": [
    "!git clone https://github.com/ultralytics/yolov5"
   ]
  },
  {
   "cell_type": "code",
   "execution_count": 5,
   "id": "aa8d6ca2",
   "metadata": {
    "execution": {
     "iopub.execute_input": "2024-03-25T16:03:15.075279Z",
     "iopub.status.busy": "2024-03-25T16:03:15.074944Z",
     "iopub.status.idle": "2024-03-25T16:03:28.610471Z",
     "shell.execute_reply": "2024-03-25T16:03:28.609448Z"
    },
    "papermill": {
     "duration": 13.554944,
     "end_time": "2024-03-25T16:03:28.612792",
     "exception": false,
     "start_time": "2024-03-25T16:03:15.057848",
     "status": "completed"
    },
    "tags": []
   },
   "outputs": [
    {
     "name": "stdout",
     "output_type": "stream",
     "text": [
      "Requirement already satisfied: gitpython>=3.1.30 in /opt/conda/lib/python3.10/site-packages (from -r yolov5/requirements.txt (line 5)) (3.1.41)\r\n",
      "Requirement already satisfied: matplotlib>=3.3 in /opt/conda/lib/python3.10/site-packages (from -r yolov5/requirements.txt (line 6)) (3.7.5)\r\n",
      "Requirement already satisfied: numpy>=1.23.5 in /opt/conda/lib/python3.10/site-packages (from -r yolov5/requirements.txt (line 7)) (1.26.4)\r\n",
      "Requirement already satisfied: opencv-python>=4.1.1 in /opt/conda/lib/python3.10/site-packages (from -r yolov5/requirements.txt (line 8)) (4.9.0.80)\r\n",
      "Requirement already satisfied: Pillow>=9.4.0 in /opt/conda/lib/python3.10/site-packages (from -r yolov5/requirements.txt (line 9)) (9.5.0)\r\n",
      "Requirement already satisfied: psutil in /opt/conda/lib/python3.10/site-packages (from -r yolov5/requirements.txt (line 10)) (5.9.3)\r\n",
      "Requirement already satisfied: PyYAML>=5.3.1 in /opt/conda/lib/python3.10/site-packages (from -r yolov5/requirements.txt (line 11)) (6.0.1)\r\n",
      "Requirement already satisfied: requests>=2.23.0 in /opt/conda/lib/python3.10/site-packages (from -r yolov5/requirements.txt (line 12)) (2.31.0)\r\n",
      "Requirement already satisfied: scipy>=1.4.1 in /opt/conda/lib/python3.10/site-packages (from -r yolov5/requirements.txt (line 13)) (1.11.4)\r\n",
      "Collecting thop>=0.1.1 (from -r yolov5/requirements.txt (line 14))\r\n",
      "  Downloading thop-0.1.1.post2209072238-py3-none-any.whl.metadata (2.7 kB)\r\n",
      "Requirement already satisfied: torch>=1.8.0 in /opt/conda/lib/python3.10/site-packages (from -r yolov5/requirements.txt (line 15)) (2.1.2)\r\n",
      "Requirement already satisfied: torchvision>=0.9.0 in /opt/conda/lib/python3.10/site-packages (from -r yolov5/requirements.txt (line 16)) (0.16.2)\r\n",
      "Requirement already satisfied: tqdm>=4.64.0 in /opt/conda/lib/python3.10/site-packages (from -r yolov5/requirements.txt (line 17)) (4.66.1)\r\n",
      "Collecting ultralytics>=8.0.232 (from -r yolov5/requirements.txt (line 18))\r\n",
      "  Downloading ultralytics-8.1.34-py3-none-any.whl.metadata (40 kB)\r\n",
      "\u001b[2K     \u001b[90m━━━━━━━━━━━━━━━━━━━━━━━━━━━━━━━━━━━━━━━━\u001b[0m \u001b[32m40.3/40.3 kB\u001b[0m \u001b[31m2.3 MB/s\u001b[0m eta \u001b[36m0:00:00\u001b[0m\r\n",
      "\u001b[?25hRequirement already satisfied: pandas>=1.1.4 in /opt/conda/lib/python3.10/site-packages (from -r yolov5/requirements.txt (line 27)) (2.1.4)\r\n",
      "Requirement already satisfied: seaborn>=0.11.0 in /opt/conda/lib/python3.10/site-packages (from -r yolov5/requirements.txt (line 28)) (0.12.2)\r\n",
      "Requirement already satisfied: setuptools>=65.5.1 in /opt/conda/lib/python3.10/site-packages (from -r yolov5/requirements.txt (line 42)) (69.2.0)\r\n",
      "Requirement already satisfied: wheel>=0.38.0 in /opt/conda/lib/python3.10/site-packages (from -r yolov5/requirements.txt (line 50)) (0.43.0)\r\n",
      "Requirement already satisfied: gitdb<5,>=4.0.1 in /opt/conda/lib/python3.10/site-packages (from gitpython>=3.1.30->-r yolov5/requirements.txt (line 5)) (4.0.11)\r\n",
      "Requirement already satisfied: contourpy>=1.0.1 in /opt/conda/lib/python3.10/site-packages (from matplotlib>=3.3->-r yolov5/requirements.txt (line 6)) (1.2.0)\r\n",
      "Requirement already satisfied: cycler>=0.10 in /opt/conda/lib/python3.10/site-packages (from matplotlib>=3.3->-r yolov5/requirements.txt (line 6)) (0.12.1)\r\n",
      "Requirement already satisfied: fonttools>=4.22.0 in /opt/conda/lib/python3.10/site-packages (from matplotlib>=3.3->-r yolov5/requirements.txt (line 6)) (4.47.0)\r\n",
      "Requirement already satisfied: kiwisolver>=1.0.1 in /opt/conda/lib/python3.10/site-packages (from matplotlib>=3.3->-r yolov5/requirements.txt (line 6)) (1.4.5)\r\n",
      "Requirement already satisfied: packaging>=20.0 in /opt/conda/lib/python3.10/site-packages (from matplotlib>=3.3->-r yolov5/requirements.txt (line 6)) (21.3)\r\n",
      "Requirement already satisfied: pyparsing>=2.3.1 in /opt/conda/lib/python3.10/site-packages (from matplotlib>=3.3->-r yolov5/requirements.txt (line 6)) (3.1.1)\r\n",
      "Requirement already satisfied: python-dateutil>=2.7 in /opt/conda/lib/python3.10/site-packages (from matplotlib>=3.3->-r yolov5/requirements.txt (line 6)) (2.9.0.post0)\r\n",
      "Requirement already satisfied: charset-normalizer<4,>=2 in /opt/conda/lib/python3.10/site-packages (from requests>=2.23.0->-r yolov5/requirements.txt (line 12)) (3.3.2)\r\n",
      "Requirement already satisfied: idna<4,>=2.5 in /opt/conda/lib/python3.10/site-packages (from requests>=2.23.0->-r yolov5/requirements.txt (line 12)) (3.6)\r\n",
      "Requirement already satisfied: urllib3<3,>=1.21.1 in /opt/conda/lib/python3.10/site-packages (from requests>=2.23.0->-r yolov5/requirements.txt (line 12)) (1.26.18)\r\n",
      "Requirement already satisfied: certifi>=2017.4.17 in /opt/conda/lib/python3.10/site-packages (from requests>=2.23.0->-r yolov5/requirements.txt (line 12)) (2024.2.2)\r\n",
      "Requirement already satisfied: filelock in /opt/conda/lib/python3.10/site-packages (from torch>=1.8.0->-r yolov5/requirements.txt (line 15)) (3.13.1)\r\n",
      "Requirement already satisfied: typing-extensions in /opt/conda/lib/python3.10/site-packages (from torch>=1.8.0->-r yolov5/requirements.txt (line 15)) (4.9.0)\r\n",
      "Requirement already satisfied: sympy in /opt/conda/lib/python3.10/site-packages (from torch>=1.8.0->-r yolov5/requirements.txt (line 15)) (1.12)\r\n",
      "Requirement already satisfied: networkx in /opt/conda/lib/python3.10/site-packages (from torch>=1.8.0->-r yolov5/requirements.txt (line 15)) (3.2.1)\r\n",
      "Requirement already satisfied: jinja2 in /opt/conda/lib/python3.10/site-packages (from torch>=1.8.0->-r yolov5/requirements.txt (line 15)) (3.1.2)\r\n",
      "Requirement already satisfied: fsspec in /opt/conda/lib/python3.10/site-packages (from torch>=1.8.0->-r yolov5/requirements.txt (line 15)) (2024.3.0)\r\n",
      "Requirement already satisfied: py-cpuinfo in /opt/conda/lib/python3.10/site-packages (from ultralytics>=8.0.232->-r yolov5/requirements.txt (line 18)) (9.0.0)\r\n",
      "Requirement already satisfied: pytz>=2020.1 in /opt/conda/lib/python3.10/site-packages (from pandas>=1.1.4->-r yolov5/requirements.txt (line 27)) (2023.3.post1)\r\n",
      "Requirement already satisfied: tzdata>=2022.1 in /opt/conda/lib/python3.10/site-packages (from pandas>=1.1.4->-r yolov5/requirements.txt (line 27)) (2023.4)\r\n",
      "Requirement already satisfied: smmap<6,>=3.0.1 in /opt/conda/lib/python3.10/site-packages (from gitdb<5,>=4.0.1->gitpython>=3.1.30->-r yolov5/requirements.txt (line 5)) (5.0.1)\r\n",
      "Requirement already satisfied: six>=1.5 in /opt/conda/lib/python3.10/site-packages (from python-dateutil>=2.7->matplotlib>=3.3->-r yolov5/requirements.txt (line 6)) (1.16.0)\r\n",
      "Requirement already satisfied: MarkupSafe>=2.0 in /opt/conda/lib/python3.10/site-packages (from jinja2->torch>=1.8.0->-r yolov5/requirements.txt (line 15)) (2.1.3)\r\n",
      "Requirement already satisfied: mpmath>=0.19 in /opt/conda/lib/python3.10/site-packages (from sympy->torch>=1.8.0->-r yolov5/requirements.txt (line 15)) (1.3.0)\r\n",
      "Downloading thop-0.1.1.post2209072238-py3-none-any.whl (15 kB)\r\n",
      "Downloading ultralytics-8.1.34-py3-none-any.whl (723 kB)\r\n",
      "\u001b[2K   \u001b[90m━━━━━━━━━━━━━━━━━━━━━━━━━━━━━━━━━━━━━━━━\u001b[0m \u001b[32m723.1/723.1 kB\u001b[0m \u001b[31m36.9 MB/s\u001b[0m eta \u001b[36m0:00:00\u001b[0m\r\n",
      "\u001b[?25hInstalling collected packages: thop, ultralytics\r\n",
      "Successfully installed thop-0.1.1.post2209072238 ultralytics-8.1.34\r\n"
     ]
    }
   ],
   "source": [
    "!pip install -r yolov5/requirements.txt"
   ]
  },
  {
   "cell_type": "code",
   "execution_count": 6,
   "id": "77c80682",
   "metadata": {
    "execution": {
     "iopub.execute_input": "2024-03-25T16:03:28.648721Z",
     "iopub.status.busy": "2024-03-25T16:03:28.648388Z",
     "iopub.status.idle": "2024-03-25T16:03:28.654632Z",
     "shell.execute_reply": "2024-03-25T16:03:28.653640Z"
    },
    "papermill": {
     "duration": 0.026045,
     "end_time": "2024-03-25T16:03:28.656513",
     "exception": false,
     "start_time": "2024-03-25T16:03:28.630468",
     "status": "completed"
    },
    "tags": []
   },
   "outputs": [
    {
     "name": "stdout",
     "output_type": "stream",
     "text": [
      "/kaggle/working/yolov5\n"
     ]
    }
   ],
   "source": [
    "cd yolov5/"
   ]
  },
  {
   "cell_type": "code",
   "execution_count": 7,
   "id": "78920075",
   "metadata": {
    "execution": {
     "iopub.execute_input": "2024-03-25T16:03:28.692068Z",
     "iopub.status.busy": "2024-03-25T16:03:28.691757Z",
     "iopub.status.idle": "2024-03-25T16:03:41.074760Z",
     "shell.execute_reply": "2024-03-25T16:03:41.073558Z"
    },
    "papermill": {
     "duration": 12.403648,
     "end_time": "2024-03-25T16:03:41.077329",
     "exception": false,
     "start_time": "2024-03-25T16:03:28.673681",
     "status": "completed"
    },
    "tags": []
   },
   "outputs": [
    {
     "name": "stdout",
     "output_type": "stream",
     "text": [
      "Requirement already satisfied: wandb in /opt/conda/lib/python3.10/site-packages (0.16.4)\r\n",
      "Requirement already satisfied: Click!=8.0.0,>=7.1 in /opt/conda/lib/python3.10/site-packages (from wandb) (8.1.7)\r\n",
      "Requirement already satisfied: GitPython!=3.1.29,>=1.0.0 in /opt/conda/lib/python3.10/site-packages (from wandb) (3.1.41)\r\n",
      "Requirement already satisfied: requests<3,>=2.0.0 in /opt/conda/lib/python3.10/site-packages (from wandb) (2.31.0)\r\n",
      "Requirement already satisfied: psutil>=5.0.0 in /opt/conda/lib/python3.10/site-packages (from wandb) (5.9.3)\r\n",
      "Requirement already satisfied: sentry-sdk>=1.0.0 in /opt/conda/lib/python3.10/site-packages (from wandb) (1.42.0)\r\n",
      "Requirement already satisfied: docker-pycreds>=0.4.0 in /opt/conda/lib/python3.10/site-packages (from wandb) (0.4.0)\r\n",
      "Requirement already satisfied: PyYAML in /opt/conda/lib/python3.10/site-packages (from wandb) (6.0.1)\r\n",
      "Requirement already satisfied: setproctitle in /opt/conda/lib/python3.10/site-packages (from wandb) (1.3.3)\r\n",
      "Requirement already satisfied: setuptools in /opt/conda/lib/python3.10/site-packages (from wandb) (69.2.0)\r\n",
      "Requirement already satisfied: appdirs>=1.4.3 in /opt/conda/lib/python3.10/site-packages (from wandb) (1.4.4)\r\n",
      "Requirement already satisfied: protobuf!=4.21.0,<5,>=3.19.0 in /opt/conda/lib/python3.10/site-packages (from wandb) (3.20.3)\r\n",
      "Requirement already satisfied: six>=1.4.0 in /opt/conda/lib/python3.10/site-packages (from docker-pycreds>=0.4.0->wandb) (1.16.0)\r\n",
      "Requirement already satisfied: gitdb<5,>=4.0.1 in /opt/conda/lib/python3.10/site-packages (from GitPython!=3.1.29,>=1.0.0->wandb) (4.0.11)\r\n",
      "Requirement already satisfied: charset-normalizer<4,>=2 in /opt/conda/lib/python3.10/site-packages (from requests<3,>=2.0.0->wandb) (3.3.2)\r\n",
      "Requirement already satisfied: idna<4,>=2.5 in /opt/conda/lib/python3.10/site-packages (from requests<3,>=2.0.0->wandb) (3.6)\r\n",
      "Requirement already satisfied: urllib3<3,>=1.21.1 in /opt/conda/lib/python3.10/site-packages (from requests<3,>=2.0.0->wandb) (1.26.18)\r\n",
      "Requirement already satisfied: certifi>=2017.4.17 in /opt/conda/lib/python3.10/site-packages (from requests<3,>=2.0.0->wandb) (2024.2.2)\r\n",
      "Requirement already satisfied: smmap<6,>=3.0.1 in /opt/conda/lib/python3.10/site-packages (from gitdb<5,>=4.0.1->GitPython!=3.1.29,>=1.0.0->wandb) (5.0.1)\r\n"
     ]
    }
   ],
   "source": [
    "!pip install wandb"
   ]
  },
  {
   "cell_type": "code",
   "execution_count": 8,
   "id": "b978f53e",
   "metadata": {
    "execution": {
     "iopub.execute_input": "2024-03-25T16:03:41.115731Z",
     "iopub.status.busy": "2024-03-25T16:03:41.115371Z",
     "iopub.status.idle": "2024-03-25T16:03:44.319270Z",
     "shell.execute_reply": "2024-03-25T16:03:44.318196Z"
    },
    "papermill": {
     "duration": 3.226153,
     "end_time": "2024-03-25T16:03:44.321808",
     "exception": false,
     "start_time": "2024-03-25T16:03:41.095655",
     "status": "completed"
    },
    "tags": []
   },
   "outputs": [
    {
     "name": "stdout",
     "output_type": "stream",
     "text": [
      "\u001b[34m\u001b[1mwandb\u001b[0m: \u001b[33mWARNING\u001b[0m If you're specifying your api key in code, ensure this code is not shared publicly.\r\n",
      "\u001b[34m\u001b[1mwandb\u001b[0m: \u001b[33mWARNING\u001b[0m Consider setting the WANDB_API_KEY environment variable, or running `wandb login` from the command line.\r\n",
      "\u001b[34m\u001b[1mwandb\u001b[0m: Appending key for api.wandb.ai to your netrc file: /root/.netrc\r\n"
     ]
    }
   ],
   "source": [
    "!wandb login 2e91e350eab87cd7c9073e8040603c65b6bc7961"
   ]
  },
  {
   "cell_type": "code",
   "execution_count": 9,
   "id": "6e6cd4b3",
   "metadata": {
    "execution": {
     "iopub.execute_input": "2024-03-25T16:03:44.360558Z",
     "iopub.status.busy": "2024-03-25T16:03:44.360192Z",
     "iopub.status.idle": "2024-03-25T18:51:15.850641Z",
     "shell.execute_reply": "2024-03-25T18:51:15.849622Z"
    },
    "papermill": {
     "duration": 10051.512574,
     "end_time": "2024-03-25T18:51:15.852941",
     "exception": false,
     "start_time": "2024-03-25T16:03:44.340367",
     "status": "completed"
    },
    "tags": []
   },
   "outputs": [
    {
     "name": "stdout",
     "output_type": "stream",
     "text": [
      "\u001b[34m\u001b[1mwandb\u001b[0m: WARNING ⚠️ wandb is deprecated and will be removed in a future release. See supported integrations at https://github.com/ultralytics/yolov5#integrations.\r\n",
      "2024-03-25 16:03:57.603590: E external/local_xla/xla/stream_executor/cuda/cuda_dnn.cc:9261] Unable to register cuDNN factory: Attempting to register factory for plugin cuDNN when one has already been registered\r\n",
      "2024-03-25 16:03:57.603714: E external/local_xla/xla/stream_executor/cuda/cuda_fft.cc:607] Unable to register cuFFT factory: Attempting to register factory for plugin cuFFT when one has already been registered\r\n",
      "2024-03-25 16:03:57.723883: E external/local_xla/xla/stream_executor/cuda/cuda_blas.cc:1515] Unable to register cuBLAS factory: Attempting to register factory for plugin cuBLAS when one has already been registered\r\n",
      "\u001b[34m\u001b[1mwandb\u001b[0m: Currently logged in as: \u001b[33mvishalb-6401\u001b[0m (\u001b[33mroad_dl\u001b[0m). Use \u001b[1m`wandb login --relogin`\u001b[0m to force relogin\r\n",
      "\u001b[34m\u001b[1mtrain: \u001b[0mweights=/kaggle/input/yolov5m2-weights/yolov5m.pt, cfg=, data=/kaggle/input/12k-43-640-1-yaml/set_1.yaml, hyp=data/hyps/hyp.scratch-low.yaml, epochs=100, batch_size=16, imgsz=640, rect=False, resume=False, nosave=False, noval=False, noautoanchor=False, noplots=False, evolve=None, evolve_population=data/hyps, resume_evolve=None, bucket=, cache=None, image_weights=False, device=0, multi_scale=False, single_cls=False, optimizer=SGD, sync_bn=False, workers=4, project=yolo_vindr_12k_34_m, name=yolo_vindr_12k_1, exist_ok=False, quad=False, cos_lr=False, label_smoothing=0.0, patience=100, freeze=[0], save_period=-1, seed=0, local_rank=-1, entity=None, upload_dataset=False, bbox_interval=-1, artifact_alias=latest, ndjson_console=False, ndjson_file=False\r\n",
      "\u001b[34m\u001b[1mgithub: \u001b[0mup to date with https://github.com/ultralytics/yolov5 ✅\r\n",
      "YOLOv5 🚀 v7.0-295-gac6c4383 Python-3.10.13 torch-2.1.2 CUDA:0 (Tesla P100-PCIE-16GB, 16276MiB)\r\n",
      "\r\n",
      "\u001b[34m\u001b[1mhyperparameters: \u001b[0mlr0=0.01, lrf=0.01, momentum=0.937, weight_decay=0.0005, warmup_epochs=3.0, warmup_momentum=0.8, warmup_bias_lr=0.1, box=0.05, cls=0.5, cls_pw=1.0, obj=1.0, obj_pw=1.0, iou_t=0.2, anchor_t=4.0, fl_gamma=0.0, hsv_h=0.015, hsv_s=0.7, hsv_v=0.4, degrees=0.0, translate=0.1, scale=0.5, shear=0.0, perspective=0.0, flipud=0.0, fliplr=0.5, mosaic=1.0, mixup=0.0, copy_paste=0.0\r\n",
      "\u001b[34m\u001b[1mComet: \u001b[0mrun 'pip install comet_ml' to automatically track and visualize YOLOv5 🚀 runs in Comet\r\n",
      "\u001b[34m\u001b[1mTensorBoard: \u001b[0mStart with 'tensorboard --logdir yolo_vindr_12k_34_m', view at http://localhost:6006/\r\n",
      "\u001b[34m\u001b[1mwandb\u001b[0m: Tracking run with wandb version 0.16.4\r\n",
      "\u001b[34m\u001b[1mwandb\u001b[0m: Run data is saved locally in \u001b[35m\u001b[1m/kaggle/working/yolov5/wandb/run-20240325_160407-kenajvya\u001b[0m\r\n",
      "\u001b[34m\u001b[1mwandb\u001b[0m: Run \u001b[1m`wandb offline`\u001b[0m to turn off syncing.\r\n",
      "\u001b[34m\u001b[1mwandb\u001b[0m: Syncing run \u001b[33myolo_vindr_12k_1\u001b[0m\r\n",
      "\u001b[34m\u001b[1mwandb\u001b[0m: ⭐️ View project at \u001b[34m\u001b[4mhttps://wandb.ai/road_dl/yolo_vindr_12k_34_m\u001b[0m\r\n",
      "\u001b[34m\u001b[1mwandb\u001b[0m: 🚀 View run at \u001b[34m\u001b[4mhttps://wandb.ai/road_dl/yolo_vindr_12k_34_m/runs/kenajvya\u001b[0m\r\n",
      "Downloading https://ultralytics.com/assets/Arial.ttf to /root/.config/Ultralytics/Arial.ttf...\r\n",
      "100%|████████████████████████████████████████| 755k/755k [00:00<00:00, 90.6MB/s]\r\n",
      "Overriding model.yaml nc=80 with nc=2\r\n",
      "\r\n",
      "                 from  n    params  module                                  arguments                     \r\n",
      "  0                -1  1      5280  models.common.Conv                      [3, 48, 6, 2, 2]              \r\n",
      "  1                -1  1     41664  models.common.Conv                      [48, 96, 3, 2]                \r\n",
      "  2                -1  2     65280  models.common.C3                        [96, 96, 2]                   \r\n",
      "  3                -1  1    166272  models.common.Conv                      [96, 192, 3, 2]               \r\n",
      "  4                -1  4    444672  models.common.C3                        [192, 192, 4]                 \r\n",
      "  5                -1  1    664320  models.common.Conv                      [192, 384, 3, 2]              \r\n",
      "  6                -1  6   2512896  models.common.C3                        [384, 384, 6]                 \r\n",
      "  7                -1  1   2655744  models.common.Conv                      [384, 768, 3, 2]              \r\n",
      "  8                -1  2   4134912  models.common.C3                        [768, 768, 2]                 \r\n",
      "  9                -1  1   1476864  models.common.SPPF                      [768, 768, 5]                 \r\n",
      " 10                -1  1    295680  models.common.Conv                      [768, 384, 1, 1]              \r\n",
      " 11                -1  1         0  torch.nn.modules.upsampling.Upsample    [None, 2, 'nearest']          \r\n",
      " 12           [-1, 6]  1         0  models.common.Concat                    [1]                           \r\n",
      " 13                -1  2   1182720  models.common.C3                        [768, 384, 2, False]          \r\n",
      " 14                -1  1     74112  models.common.Conv                      [384, 192, 1, 1]              \r\n",
      " 15                -1  1         0  torch.nn.modules.upsampling.Upsample    [None, 2, 'nearest']          \r\n",
      " 16           [-1, 4]  1         0  models.common.Concat                    [1]                           \r\n",
      " 17                -1  2    296448  models.common.C3                        [384, 192, 2, False]          \r\n",
      " 18                -1  1    332160  models.common.Conv                      [192, 192, 3, 2]              \r\n",
      " 19          [-1, 14]  1         0  models.common.Concat                    [1]                           \r\n",
      " 20                -1  2   1035264  models.common.C3                        [384, 384, 2, False]          \r\n",
      " 21                -1  1   1327872  models.common.Conv                      [384, 384, 3, 2]              \r\n",
      " 22          [-1, 10]  1         0  models.common.Concat                    [1]                           \r\n",
      " 23                -1  2   4134912  models.common.C3                        [768, 768, 2, False]          \r\n",
      " 24      [17, 20, 23]  1     28287  models.yolo.Detect                      [2, [[10, 13, 16, 30, 33, 23], [30, 61, 62, 45, 59, 119], [116, 90, 156, 198, 373, 326]], [192, 384, 768]]\r\n",
      "Model summary: 291 layers, 20875359 parameters, 20875359 gradients, 48.2 GFLOPs\r\n",
      "\r\n",
      "Transferred 475/481 items from /kaggle/input/yolov5m2-weights/yolov5m.pt\r\n",
      "\u001b[34m\u001b[1mAMP: \u001b[0mchecks passed ✅\r\n",
      "\u001b[34m\u001b[1moptimizer:\u001b[0m SGD(lr=0.01) with parameter groups 79 weight(decay=0.0), 82 weight(decay=0.0005), 82 bias\r\n",
      "\u001b[34m\u001b[1malbumentations: \u001b[0mBlur(p=0.01, blur_limit=(3, 7)), MedianBlur(p=0.01, blur_limit=(3, 7)), ToGray(p=0.01), CLAHE(p=0.01, clip_limit=(1, 4.0), tile_grid_size=(8, 8))\r\n",
      "\u001b[34m\u001b[1mtrain: \u001b[0mScanning /kaggle/input/12k-43-640-data/set_1/set_1/labels/train... 3200 i\u001b[0m\r\n",
      "\u001b[34m\u001b[1mtrain: \u001b[0mWARNING ⚠️ Cache directory /kaggle/input/12k-43-640-data/set_1/set_1/labels is not writeable: [Errno 30] Read-only file system: '/kaggle/input/12k-43-640-data/set_1/set_1/labels/train.cache.npy'\r\n",
      "\u001b[34m\u001b[1mval: \u001b[0mScanning /kaggle/input/12k-43-640-data/set_1/set_1/labels/val... 400 images\u001b[0m\r\n",
      "\u001b[34m\u001b[1mval: \u001b[0mWARNING ⚠️ Cache directory /kaggle/input/12k-43-640-data/set_1/set_1/labels is not writeable: [Errno 30] Read-only file system: '/kaggle/input/12k-43-640-data/set_1/set_1/labels/val.cache.npy'\r\n",
      "\r\n",
      "\u001b[34m\u001b[1mAutoAnchor: \u001b[0m3.44 anchors/target, 1.000 Best Possible Recall (BPR). Current anchors are a good fit to dataset ✅\r\n",
      "Plotting labels to yolo_vindr_12k_34_m/yolo_vindr_12k_1/labels.jpg... \r\n",
      "/opt/conda/lib/python3.10/site-packages/seaborn/_oldcore.py:1119: FutureWarning: use_inf_as_na option is deprecated and will be removed in a future version. Convert inf values to NaN before operating instead.\r\n",
      "  with pd.option_context('mode.use_inf_as_na', True):\r\n",
      "/opt/conda/lib/python3.10/site-packages/seaborn/_oldcore.py:1119: FutureWarning: use_inf_as_na option is deprecated and will be removed in a future version. Convert inf values to NaN before operating instead.\r\n",
      "  with pd.option_context('mode.use_inf_as_na', True):\r\n",
      "/opt/conda/lib/python3.10/site-packages/seaborn/_oldcore.py:1119: FutureWarning: use_inf_as_na option is deprecated and will be removed in a future version. Convert inf values to NaN before operating instead.\r\n",
      "  with pd.option_context('mode.use_inf_as_na', True):\r\n",
      "/opt/conda/lib/python3.10/site-packages/seaborn/_oldcore.py:1119: FutureWarning: use_inf_as_na option is deprecated and will be removed in a future version. Convert inf values to NaN before operating instead.\r\n",
      "  with pd.option_context('mode.use_inf_as_na', True):\r\n",
      "/opt/conda/lib/python3.10/site-packages/seaborn/_oldcore.py:1119: FutureWarning: use_inf_as_na option is deprecated and will be removed in a future version. Convert inf values to NaN before operating instead.\r\n",
      "  with pd.option_context('mode.use_inf_as_na', True):\r\n",
      "/opt/conda/lib/python3.10/site-packages/seaborn/_oldcore.py:1119: FutureWarning: use_inf_as_na option is deprecated and will be removed in a future version. Convert inf values to NaN before operating instead.\r\n",
      "  with pd.option_context('mode.use_inf_as_na', True):\r\n",
      "/opt/conda/lib/python3.10/site-packages/seaborn/_oldcore.py:1119: FutureWarning: use_inf_as_na option is deprecated and will be removed in a future version. Convert inf values to NaN before operating instead.\r\n",
      "  with pd.option_context('mode.use_inf_as_na', True):\r\n",
      "/opt/conda/lib/python3.10/site-packages/seaborn/_oldcore.py:1119: FutureWarning: use_inf_as_na option is deprecated and will be removed in a future version. Convert inf values to NaN before operating instead.\r\n",
      "  with pd.option_context('mode.use_inf_as_na', True):\r\n",
      "/opt/conda/lib/python3.10/site-packages/seaborn/_oldcore.py:1119: FutureWarning: use_inf_as_na option is deprecated and will be removed in a future version. Convert inf values to NaN before operating instead.\r\n",
      "  with pd.option_context('mode.use_inf_as_na', True):\r\n",
      "/opt/conda/lib/python3.10/site-packages/seaborn/_oldcore.py:1119: FutureWarning: use_inf_as_na option is deprecated and will be removed in a future version. Convert inf values to NaN before operating instead.\r\n",
      "  with pd.option_context('mode.use_inf_as_na', True):\r\n",
      "/opt/conda/lib/python3.10/site-packages/seaborn/_oldcore.py:1119: FutureWarning: use_inf_as_na option is deprecated and will be removed in a future version. Convert inf values to NaN before operating instead.\r\n",
      "  with pd.option_context('mode.use_inf_as_na', True):\r\n",
      "/opt/conda/lib/python3.10/site-packages/seaborn/_oldcore.py:1119: FutureWarning: use_inf_as_na option is deprecated and will be removed in a future version. Convert inf values to NaN before operating instead.\r\n",
      "  with pd.option_context('mode.use_inf_as_na', True):\r\n",
      "/opt/conda/lib/python3.10/site-packages/seaborn/_oldcore.py:1119: FutureWarning: use_inf_as_na option is deprecated and will be removed in a future version. Convert inf values to NaN before operating instead.\r\n",
      "  with pd.option_context('mode.use_inf_as_na', True):\r\n",
      "/opt/conda/lib/python3.10/site-packages/seaborn/_oldcore.py:1119: FutureWarning: use_inf_as_na option is deprecated and will be removed in a future version. Convert inf values to NaN before operating instead.\r\n",
      "  with pd.option_context('mode.use_inf_as_na', True):\r\n",
      "/opt/conda/lib/python3.10/site-packages/seaborn/_oldcore.py:1119: FutureWarning: use_inf_as_na option is deprecated and will be removed in a future version. Convert inf values to NaN before operating instead.\r\n",
      "  with pd.option_context('mode.use_inf_as_na', True):\r\n",
      "/opt/conda/lib/python3.10/site-packages/seaborn/_oldcore.py:1119: FutureWarning: use_inf_as_na option is deprecated and will be removed in a future version. Convert inf values to NaN before operating instead.\r\n",
      "  with pd.option_context('mode.use_inf_as_na', True):\r\n",
      "/opt/conda/lib/python3.10/site-packages/seaborn/_oldcore.py:1119: FutureWarning: use_inf_as_na option is deprecated and will be removed in a future version. Convert inf values to NaN before operating instead.\r\n",
      "  with pd.option_context('mode.use_inf_as_na', True):\r\n",
      "/opt/conda/lib/python3.10/site-packages/seaborn/_oldcore.py:1119: FutureWarning: use_inf_as_na option is deprecated and will be removed in a future version. Convert inf values to NaN before operating instead.\r\n",
      "  with pd.option_context('mode.use_inf_as_na', True):\r\n",
      "/opt/conda/lib/python3.10/site-packages/seaborn/_oldcore.py:1119: FutureWarning: use_inf_as_na option is deprecated and will be removed in a future version. Convert inf values to NaN before operating instead.\r\n",
      "  with pd.option_context('mode.use_inf_as_na', True):\r\n",
      "/opt/conda/lib/python3.10/site-packages/seaborn/_oldcore.py:1119: FutureWarning: use_inf_as_na option is deprecated and will be removed in a future version. Convert inf values to NaN before operating instead.\r\n",
      "  with pd.option_context('mode.use_inf_as_na', True):\r\n",
      "Image sizes 640 train, 640 val\r\n",
      "Using 4 dataloader workers\r\n",
      "Logging results to \u001b[1myolo_vindr_12k_34_m/yolo_vindr_12k_1\u001b[0m\r\n",
      "Starting training for 100 epochs...\r\n",
      "\r\n",
      "      Epoch    GPU_mem   box_loss   obj_loss   cls_loss  Instances       Size\r\n",
      "       0/99       7.1G    0.08729      0.022    0.01476         36        640: 1\r\n",
      "                 Class     Images  Instances          P          R      mAP50   \r\n",
      "                   all        400        400      0.732      0.449      0.258      0.241\r\n",
      "\r\n",
      "      Epoch    GPU_mem   box_loss   obj_loss   cls_loss  Instances       Size\r\n",
      "       1/99       7.1G    0.06547    0.01676   0.003769         34        640: 1\r\n",
      "                 Class     Images  Instances          P          R      mAP50   \r\n",
      "                   all        400        400      0.348      0.499      0.312      0.291\r\n",
      "\r\n",
      "      Epoch    GPU_mem   box_loss   obj_loss   cls_loss  Instances       Size\r\n",
      "       2/99      7.12G    0.06076    0.01511   0.003104         39        640: 1\r\n",
      "                 Class     Images  Instances          P          R      mAP50   \r\n",
      "                   all        400        400      0.385      0.529      0.317       0.26\r\n",
      "\r\n",
      "      Epoch    GPU_mem   box_loss   obj_loss   cls_loss  Instances       Size\r\n",
      "       3/99      7.12G    0.05894    0.01489   0.002989         33        640: 1\r\n",
      "                 Class     Images  Instances          P          R      mAP50   \r\n",
      "                   all        400        400      0.401      0.473      0.329      0.133\r\n",
      "\r\n",
      "      Epoch    GPU_mem   box_loss   obj_loss   cls_loss  Instances       Size\r\n",
      "       4/99      7.12G    0.05552    0.01446   0.002683         42        640: 1\r\n",
      "                 Class     Images  Instances          P          R      mAP50   \r\n",
      "                   all        400        400      0.361      0.587      0.351      0.216\r\n",
      "\r\n",
      "      Epoch    GPU_mem   box_loss   obj_loss   cls_loss  Instances       Size\r\n",
      "       5/99      7.12G    0.05364    0.01419   0.002437         37        640: 1\r\n",
      "                 Class     Images  Instances          P          R      mAP50   \r\n",
      "                   all        400        400      0.399      0.584      0.343      0.282\r\n",
      "\r\n",
      "      Epoch    GPU_mem   box_loss   obj_loss   cls_loss  Instances       Size\r\n",
      "       6/99      7.12G    0.05191    0.01399   0.002476         39        640: 1\r\n",
      "                 Class     Images  Instances          P          R      mAP50   \r\n",
      "                   all        400        400      0.456      0.541      0.382      0.303\r\n",
      "\r\n",
      "      Epoch    GPU_mem   box_loss   obj_loss   cls_loss  Instances       Size\r\n",
      "       7/99      7.12G     0.0502    0.01399   0.002341         35        640: 1\r\n",
      "                 Class     Images  Instances          P          R      mAP50   \r\n",
      "                   all        400        400      0.367      0.575      0.349      0.288\r\n",
      "\r\n",
      "      Epoch    GPU_mem   box_loss   obj_loss   cls_loss  Instances       Size\r\n",
      "       8/99      7.12G    0.04908    0.01355    0.00204         33        640: 1\r\n",
      "                 Class     Images  Instances          P          R      mAP50   \r\n",
      "                   all        400        400      0.406      0.575      0.379      0.313\r\n",
      "\r\n",
      "      Epoch    GPU_mem   box_loss   obj_loss   cls_loss  Instances       Size\r\n",
      "       9/99      7.12G    0.04866    0.01361   0.001799         36        640: 1\r\n",
      "                 Class     Images  Instances          P          R      mAP50   \r\n",
      "                   all        400        400      0.431      0.584      0.368      0.302\r\n",
      "\r\n",
      "      Epoch    GPU_mem   box_loss   obj_loss   cls_loss  Instances       Size\r\n",
      "      10/99      7.12G    0.04819     0.0134   0.001965         37        640: 1\r\n",
      "                 Class     Images  Instances          P          R      mAP50   \r\n",
      "                   all        400        400      0.458      0.576      0.394      0.321\r\n",
      "\r\n",
      "      Epoch    GPU_mem   box_loss   obj_loss   cls_loss  Instances       Size\r\n",
      "      11/99      7.12G    0.04713    0.01353   0.001931         38        640: 1\r\n",
      "                 Class     Images  Instances          P          R      mAP50   \r\n",
      "                   all        400        400      0.437      0.603      0.402      0.346\r\n",
      "\r\n",
      "      Epoch    GPU_mem   box_loss   obj_loss   cls_loss  Instances       Size\r\n",
      "      12/99      7.12G    0.04671    0.01343    0.00202         34        640: 1\r\n",
      "                 Class     Images  Instances          P          R      mAP50   \r\n",
      "                   all        400        400      0.403      0.608       0.39      0.336\r\n",
      "\r\n",
      "      Epoch    GPU_mem   box_loss   obj_loss   cls_loss  Instances       Size\r\n",
      "      13/99      7.12G    0.04597    0.01329   0.002022         30        640: 1\r\n",
      "                 Class     Images  Instances          P          R      mAP50   \r\n",
      "                   all        400        400      0.441      0.584      0.395      0.342\r\n",
      "\r\n",
      "      Epoch    GPU_mem   box_loss   obj_loss   cls_loss  Instances       Size\r\n",
      "      14/99      7.12G    0.04627    0.01292   0.001937         39        640: 1\r\n",
      "                 Class     Images  Instances          P          R      mAP50   \r\n",
      "                   all        400        400      0.366      0.586      0.394      0.345\r\n",
      "\r\n",
      "      Epoch    GPU_mem   box_loss   obj_loss   cls_loss  Instances       Size\r\n",
      "      15/99      7.12G    0.04509    0.01321   0.001994         33        640: 1\r\n",
      "                 Class     Images  Instances          P          R      mAP50   \r\n",
      "                   all        400        400      0.451      0.586      0.386      0.334\r\n",
      "\r\n",
      "      Epoch    GPU_mem   box_loss   obj_loss   cls_loss  Instances       Size\r\n",
      "      16/99      7.12G    0.04418    0.01314   0.002216         37        640: 1\r\n",
      "                 Class     Images  Instances          P          R      mAP50   \r\n",
      "                   all        400        400      0.397      0.601      0.411      0.352\r\n",
      "\r\n",
      "      Epoch    GPU_mem   box_loss   obj_loss   cls_loss  Instances       Size\r\n",
      "      17/99      7.12G     0.0443     0.0133   0.002014         34        640: 1\r\n",
      "                 Class     Images  Instances          P          R      mAP50   \r\n",
      "                   all        400        400      0.431      0.613      0.426       0.35\r\n",
      "\r\n",
      "      Epoch    GPU_mem   box_loss   obj_loss   cls_loss  Instances       Size\r\n",
      "      18/99      7.12G    0.04375    0.01334   0.001969         33        640: 1\r\n",
      "                 Class     Images  Instances          P          R      mAP50   \r\n",
      "                   all        400        400      0.408      0.611      0.428       0.36\r\n",
      "\r\n",
      "      Epoch    GPU_mem   box_loss   obj_loss   cls_loss  Instances       Size\r\n",
      "      19/99      7.12G    0.04244    0.01319   0.002066         41        640: 1\r\n",
      "                 Class     Images  Instances          P          R      mAP50   \r\n",
      "                   all        400        400      0.397      0.643      0.434      0.379\r\n",
      "\r\n",
      "      Epoch    GPU_mem   box_loss   obj_loss   cls_loss  Instances       Size\r\n",
      "      20/99      7.12G    0.04301    0.01265   0.001927         41        640: 1\r\n",
      "                 Class     Images  Instances          P          R      mAP50   \r\n",
      "                   all        400        400      0.441      0.595      0.441      0.381\r\n",
      "\r\n",
      "      Epoch    GPU_mem   box_loss   obj_loss   cls_loss  Instances       Size\r\n",
      "      21/99      7.12G    0.04182    0.01301   0.001732         28        640: 1\r\n",
      "                 Class     Images  Instances          P          R      mAP50   \r\n",
      "                   all        400        400       0.48      0.595       0.42       0.37\r\n",
      "\r\n",
      "      Epoch    GPU_mem   box_loss   obj_loss   cls_loss  Instances       Size\r\n",
      "      22/99      7.12G     0.0413    0.01276   0.001975         29        640: 1\r\n",
      "                 Class     Images  Instances          P          R      mAP50   \r\n",
      "                   all        400        400      0.458      0.599      0.446      0.389\r\n",
      "\r\n",
      "      Epoch    GPU_mem   box_loss   obj_loss   cls_loss  Instances       Size\r\n",
      "      23/99      7.12G    0.04181    0.01285   0.001925         41        640: 1\r\n",
      "                 Class     Images  Instances          P          R      mAP50   \r\n",
      "                   all        400        400      0.449      0.628      0.449      0.385\r\n",
      "\r\n",
      "      Epoch    GPU_mem   box_loss   obj_loss   cls_loss  Instances       Size\r\n",
      "      24/99      7.12G    0.04136    0.01282   0.001795         43        640: 1\r\n",
      "                 Class     Images  Instances          P          R      mAP50   \r\n",
      "                   all        400        400      0.517      0.559      0.457      0.396\r\n",
      "\r\n",
      "      Epoch    GPU_mem   box_loss   obj_loss   cls_loss  Instances       Size\r\n",
      "      25/99      7.12G    0.04132    0.01259   0.001861         35        640: 1\r\n",
      "                 Class     Images  Instances          P          R      mAP50   \r\n",
      "                   all        400        400      0.458      0.546      0.381      0.343\r\n",
      "\r\n",
      "      Epoch    GPU_mem   box_loss   obj_loss   cls_loss  Instances       Size\r\n",
      "      26/99      7.12G    0.04026    0.01278   0.001854         32        640: 1\r\n",
      "                 Class     Images  Instances          P          R      mAP50   \r\n",
      "                   all        400        400      0.438       0.65      0.446      0.387\r\n",
      "\r\n",
      "      Epoch    GPU_mem   box_loss   obj_loss   cls_loss  Instances       Size\r\n",
      "      27/99      7.12G    0.03929    0.01274   0.001893         38        640: 1\r\n",
      "                 Class     Images  Instances          P          R      mAP50   \r\n",
      "                   all        400        400       0.47      0.638      0.463      0.397\r\n",
      "\r\n",
      "      Epoch    GPU_mem   box_loss   obj_loss   cls_loss  Instances       Size\r\n",
      "      28/99      7.12G    0.03966    0.01244   0.001714         32        640: 1\r\n",
      "                 Class     Images  Instances          P          R      mAP50   \r\n",
      "                   all        400        400      0.451       0.64      0.484      0.383\r\n",
      "\r\n",
      "      Epoch    GPU_mem   box_loss   obj_loss   cls_loss  Instances       Size\r\n",
      "      29/99      7.12G    0.03968    0.01261   0.002012         36        640: 1\r\n",
      "                 Class     Images  Instances          P          R      mAP50   \r\n",
      "                   all        400        400      0.494      0.637       0.48      0.407\r\n",
      "\r\n",
      "      Epoch    GPU_mem   box_loss   obj_loss   cls_loss  Instances       Size\r\n",
      "      30/99      7.12G    0.03846    0.01272   0.001827         35        640: 1\r\n",
      "                 Class     Images  Instances          P          R      mAP50   \r\n",
      "                   all        400        400      0.445      0.648      0.463      0.401\r\n",
      "\r\n",
      "      Epoch    GPU_mem   box_loss   obj_loss   cls_loss  Instances       Size\r\n",
      "      31/99      7.12G    0.03827    0.01229   0.001684         30        640: 1\r\n",
      "                 Class     Images  Instances          P          R      mAP50   \r\n",
      "                   all        400        400      0.421      0.638      0.446      0.355\r\n",
      "\r\n",
      "      Epoch    GPU_mem   box_loss   obj_loss   cls_loss  Instances       Size\r\n",
      "      32/99      7.12G    0.03774    0.01254   0.001696         36        640: 1\r\n",
      "                 Class     Images  Instances          P          R      mAP50   \r\n",
      "                   all        400        400      0.455      0.598      0.428      0.373\r\n",
      "\r\n",
      "      Epoch    GPU_mem   box_loss   obj_loss   cls_loss  Instances       Size\r\n",
      "      33/99      7.12G    0.03801    0.01235   0.001646         34        640: 1\r\n",
      "                 Class     Images  Instances          P          R      mAP50   \r\n",
      "                   all        400        400      0.496      0.592      0.454      0.392\r\n",
      "\r\n",
      "      Epoch    GPU_mem   box_loss   obj_loss   cls_loss  Instances       Size\r\n",
      "      34/99      7.12G    0.03725    0.01205   0.001854         38        640: 1\r\n",
      "                 Class     Images  Instances          P          R      mAP50   \r\n",
      "                   all        400        400      0.495      0.615      0.464      0.395\r\n",
      "\r\n",
      "      Epoch    GPU_mem   box_loss   obj_loss   cls_loss  Instances       Size\r\n",
      "      35/99      7.12G    0.03612     0.0122   0.001732         42        640: 1\r\n",
      "                 Class     Images  Instances          P          R      mAP50   \r\n",
      "                   all        400        400       0.45      0.643      0.466      0.403\r\n",
      "\r\n",
      "      Epoch    GPU_mem   box_loss   obj_loss   cls_loss  Instances       Size\r\n",
      "      36/99      7.12G    0.03691    0.01237   0.001698         34        640: 1\r\n",
      "                 Class     Images  Instances          P          R      mAP50   \r\n",
      "                   all        400        400       0.44       0.64      0.451       0.39\r\n",
      "\r\n",
      "      Epoch    GPU_mem   box_loss   obj_loss   cls_loss  Instances       Size\r\n",
      "      37/99      7.12G    0.03657    0.01207   0.001615         27        640: 1\r\n",
      "                 Class     Images  Instances          P          R      mAP50   \r\n",
      "                   all        400        400      0.491      0.638      0.496      0.415\r\n",
      "\r\n",
      "      Epoch    GPU_mem   box_loss   obj_loss   cls_loss  Instances       Size\r\n",
      "      38/99      7.12G    0.03527    0.01215   0.001805         28        640: 1\r\n",
      "                 Class     Images  Instances          P          R      mAP50   \r\n",
      "                   all        400        400      0.461      0.642      0.478      0.412\r\n",
      "\r\n",
      "      Epoch    GPU_mem   box_loss   obj_loss   cls_loss  Instances       Size\r\n",
      "      39/99      7.12G    0.03538    0.01208   0.001805         38        640: 1\r\n",
      "                 Class     Images  Instances          P          R      mAP50   \r\n",
      "                   all        400        400      0.463       0.67        0.5      0.426\r\n",
      "\r\n",
      "      Epoch    GPU_mem   box_loss   obj_loss   cls_loss  Instances       Size\r\n",
      "      40/99      7.12G    0.03462    0.01203   0.001883         35        640: 1\r\n",
      "                 Class     Images  Instances          P          R      mAP50   \r\n",
      "                   all        400        400      0.497      0.621      0.451       0.39\r\n",
      "\r\n",
      "      Epoch    GPU_mem   box_loss   obj_loss   cls_loss  Instances       Size\r\n",
      "      41/99      7.12G    0.03408    0.01201   0.001709         45        640: 1\r\n",
      "                 Class     Images  Instances          P          R      mAP50   \r\n",
      "                   all        400        400      0.522      0.645      0.492      0.425\r\n",
      "\r\n",
      "      Epoch    GPU_mem   box_loss   obj_loss   cls_loss  Instances       Size\r\n",
      "      42/99      7.12G    0.03428    0.01188   0.001687         40        640: 1\r\n",
      "                 Class     Images  Instances          P          R      mAP50   \r\n",
      "                   all        400        400      0.505      0.647      0.497      0.426\r\n",
      "\r\n",
      "      Epoch    GPU_mem   box_loss   obj_loss   cls_loss  Instances       Size\r\n",
      "      43/99      7.12G    0.03402     0.0118   0.001765         34        640: 1\r\n",
      "                 Class     Images  Instances          P          R      mAP50   \r\n",
      "                   all        400        400      0.487      0.643       0.49      0.419\r\n",
      "\r\n",
      "      Epoch    GPU_mem   box_loss   obj_loss   cls_loss  Instances       Size\r\n",
      "      44/99      7.12G    0.03334    0.01154    0.00154         33        640: 1\r\n",
      "                 Class     Images  Instances          P          R      mAP50   \r\n",
      "                   all        400        400      0.471      0.657       0.49      0.429\r\n",
      "\r\n",
      "      Epoch    GPU_mem   box_loss   obj_loss   cls_loss  Instances       Size\r\n",
      "      45/99      7.12G    0.03305    0.01163   0.001669         39        640: 1\r\n",
      "                 Class     Images  Instances          P          R      mAP50   \r\n",
      "                   all        400        400      0.498      0.657        0.5      0.427\r\n",
      "\r\n",
      "      Epoch    GPU_mem   box_loss   obj_loss   cls_loss  Instances       Size\r\n",
      "      46/99      7.12G    0.03267    0.01205   0.001794         33        640: 1\r\n",
      "                 Class     Images  Instances          P          R      mAP50   \r\n",
      "                   all        400        400      0.489      0.665      0.494      0.427\r\n",
      "\r\n",
      "      Epoch    GPU_mem   box_loss   obj_loss   cls_loss  Instances       Size\r\n",
      "      47/99      7.12G    0.03289    0.01125   0.001547         38        640: 1\r\n",
      "                 Class     Images  Instances          P          R      mAP50   \r\n",
      "                   all        400        400      0.453      0.681       0.49      0.381\r\n",
      "\r\n",
      "      Epoch    GPU_mem   box_loss   obj_loss   cls_loss  Instances       Size\r\n",
      "      48/99      7.12G    0.03153    0.01183   0.001798         40        640: 1\r\n",
      "                 Class     Images  Instances          P          R      mAP50   \r\n",
      "                   all        400        400      0.493       0.66      0.507      0.431\r\n",
      "\r\n",
      "      Epoch    GPU_mem   box_loss   obj_loss   cls_loss  Instances       Size\r\n",
      "      49/99      7.12G    0.03144    0.01154   0.001623         39        640: 1\r\n",
      "                 Class     Images  Instances          P          R      mAP50   \r\n",
      "                   all        400        400      0.503      0.665      0.494      0.423\r\n",
      "\r\n",
      "      Epoch    GPU_mem   box_loss   obj_loss   cls_loss  Instances       Size\r\n",
      "      50/99      7.12G    0.03122    0.01148   0.001691         40        640: 1\r\n",
      "                 Class     Images  Instances          P          R      mAP50   \r\n",
      "                   all        400        400      0.464      0.675      0.508      0.438\r\n",
      "\r\n",
      "      Epoch    GPU_mem   box_loss   obj_loss   cls_loss  Instances       Size\r\n",
      "      51/99      7.12G    0.03144    0.01133   0.001563         35        640: 1\r\n",
      "                 Class     Images  Instances          P          R      mAP50   \r\n",
      "                   all        400        400      0.493      0.682      0.518      0.446\r\n",
      "\r\n",
      "      Epoch    GPU_mem   box_loss   obj_loss   cls_loss  Instances       Size\r\n",
      "      52/99      7.12G    0.03104    0.01125   0.001513         26        640: 1\r\n",
      "                 Class     Images  Instances          P          R      mAP50   \r\n",
      "                   all        400        400      0.492      0.687      0.508      0.436\r\n",
      "\r\n",
      "      Epoch    GPU_mem   box_loss   obj_loss   cls_loss  Instances       Size\r\n",
      "      53/99      7.12G    0.03035    0.01137   0.001544         43        640: 1\r\n",
      "                 Class     Images  Instances          P          R      mAP50   \r\n",
      "                   all        400        400      0.545      0.644      0.536      0.452\r\n",
      "\r\n",
      "      Epoch    GPU_mem   box_loss   obj_loss   cls_loss  Instances       Size\r\n",
      "      54/99      7.12G    0.03032    0.01135   0.001551         40        640: 1\r\n",
      "                 Class     Images  Instances          P          R      mAP50   \r\n",
      "                   all        400        400      0.497      0.704      0.539      0.461\r\n",
      "\r\n",
      "      Epoch    GPU_mem   box_loss   obj_loss   cls_loss  Instances       Size\r\n",
      "      55/99      7.12G    0.03052     0.0113   0.001512         36        640: 1\r\n",
      "                 Class     Images  Instances          P          R      mAP50   \r\n",
      "                   all        400        400      0.496        0.7      0.516       0.44\r\n",
      "\r\n",
      "      Epoch    GPU_mem   box_loss   obj_loss   cls_loss  Instances       Size\r\n",
      "      56/99      7.12G    0.02914    0.01103   0.001742         37        640: 1\r\n",
      "                 Class     Images  Instances          P          R      mAP50   \r\n",
      "                   all        400        400      0.495      0.686      0.508      0.442\r\n",
      "\r\n",
      "      Epoch    GPU_mem   box_loss   obj_loss   cls_loss  Instances       Size\r\n",
      "      57/99      7.12G    0.02877    0.01092   0.001638         34        640: 1\r\n",
      "                 Class     Images  Instances          P          R      mAP50   \r\n",
      "                   all        400        400      0.532      0.664      0.542      0.458\r\n",
      "\r\n",
      "      Epoch    GPU_mem   box_loss   obj_loss   cls_loss  Instances       Size\r\n",
      "      58/99      7.12G    0.02899    0.01085   0.001573         37        640: 1\r\n",
      "                 Class     Images  Instances          P          R      mAP50   \r\n",
      "                   all        400        400      0.511      0.679       0.54      0.454\r\n",
      "\r\n",
      "      Epoch    GPU_mem   box_loss   obj_loss   cls_loss  Instances       Size\r\n",
      "      59/99      7.12G    0.02847    0.01075   0.001531         35        640: 1\r\n",
      "                 Class     Images  Instances          P          R      mAP50   \r\n",
      "                   all        400        400      0.496      0.698      0.547      0.468\r\n",
      "\r\n",
      "      Epoch    GPU_mem   box_loss   obj_loss   cls_loss  Instances       Size\r\n",
      "      60/99      7.12G    0.02802    0.01066   0.001696         36        640: 1\r\n",
      "                 Class     Images  Instances          P          R      mAP50   \r\n",
      "                   all        400        400      0.487      0.716      0.533      0.461\r\n",
      "\r\n",
      "      Epoch    GPU_mem   box_loss   obj_loss   cls_loss  Instances       Size\r\n",
      "      61/99      7.12G    0.02824    0.01079   0.001605         32        640: 1\r\n",
      "                 Class     Images  Instances          P          R      mAP50   \r\n",
      "                   all        400        400       0.52       0.67      0.544      0.469\r\n",
      "\r\n",
      "      Epoch    GPU_mem   box_loss   obj_loss   cls_loss  Instances       Size\r\n",
      "      62/99      7.12G    0.02797    0.01088   0.001467         40        640: 1\r\n",
      "                 Class     Images  Instances          P          R      mAP50   \r\n",
      "                   all        400        400      0.488      0.679      0.512      0.451\r\n",
      "\r\n",
      "      Epoch    GPU_mem   box_loss   obj_loss   cls_loss  Instances       Size\r\n",
      "      63/99      7.12G    0.02695    0.01055   0.001534         38        640: 1\r\n",
      "                 Class     Images  Instances          P          R      mAP50   \r\n",
      "                   all        400        400      0.549      0.662      0.537      0.466\r\n",
      "\r\n",
      "      Epoch    GPU_mem   box_loss   obj_loss   cls_loss  Instances       Size\r\n",
      "      64/99      7.12G    0.02717    0.01055   0.001374         34        640: 1\r\n",
      "                 Class     Images  Instances          P          R      mAP50   \r\n",
      "                   all        400        400      0.507      0.712      0.545      0.464\r\n",
      "\r\n",
      "      Epoch    GPU_mem   box_loss   obj_loss   cls_loss  Instances       Size\r\n",
      "      65/99      7.12G    0.02668    0.01044   0.001527         36        640: 1\r\n",
      "                 Class     Images  Instances          P          R      mAP50   \r\n",
      "                   all        400        400      0.507      0.664      0.535      0.468\r\n",
      "\r\n",
      "      Epoch    GPU_mem   box_loss   obj_loss   cls_loss  Instances       Size\r\n",
      "      66/99      7.12G    0.02761    0.01043   0.001302         30        640: 1\r\n",
      "                 Class     Images  Instances          P          R      mAP50   \r\n",
      "                   all        400        400      0.494      0.692      0.554      0.485\r\n",
      "\r\n",
      "      Epoch    GPU_mem   box_loss   obj_loss   cls_loss  Instances       Size\r\n",
      "      67/99      7.12G    0.02634    0.01045   0.001419         43        640: 1\r\n",
      "                 Class     Images  Instances          P          R      mAP50   \r\n",
      "                   all        400        400      0.503      0.689      0.554       0.49\r\n",
      "\r\n",
      "      Epoch    GPU_mem   box_loss   obj_loss   cls_loss  Instances       Size\r\n",
      "      68/99      7.12G    0.02667    0.01055   0.001398         41        640: 1\r\n",
      "                 Class     Images  Instances          P          R      mAP50   \r\n",
      "                   all        400        400      0.552      0.645      0.552      0.489\r\n",
      "\r\n",
      "      Epoch    GPU_mem   box_loss   obj_loss   cls_loss  Instances       Size\r\n",
      "      69/99      7.12G    0.02543    0.01024   0.001679         35        640: 1\r\n",
      "                 Class     Images  Instances          P          R      mAP50   \r\n",
      "                   all        400        400      0.496      0.694      0.557      0.487\r\n",
      "\r\n",
      "      Epoch    GPU_mem   box_loss   obj_loss   cls_loss  Instances       Size\r\n",
      "      70/99      7.12G    0.02524     0.0103   0.001409         28        640: 1\r\n",
      "                 Class     Images  Instances          P          R      mAP50   \r\n",
      "                   all        400        400      0.542      0.674      0.543      0.477\r\n",
      "\r\n",
      "      Epoch    GPU_mem   box_loss   obj_loss   cls_loss  Instances       Size\r\n",
      "      71/99      7.12G    0.02485    0.01008   0.001581         41        640: 1\r\n",
      "                 Class     Images  Instances          P          R      mAP50   \r\n",
      "                   all        400        400      0.509      0.709      0.552      0.492\r\n",
      "\r\n",
      "      Epoch    GPU_mem   box_loss   obj_loss   cls_loss  Instances       Size\r\n",
      "      72/99      7.12G    0.02502   0.009952   0.001479         27        640: 1\r\n",
      "                 Class     Images  Instances          P          R      mAP50   \r\n",
      "                   all        400        400      0.534      0.674      0.558      0.487\r\n",
      "\r\n",
      "      Epoch    GPU_mem   box_loss   obj_loss   cls_loss  Instances       Size\r\n",
      "      73/99      7.12G    0.02417   0.009952   0.001289         37        640: 1\r\n",
      "                 Class     Images  Instances          P          R      mAP50   \r\n",
      "                   all        400        400      0.543      0.719      0.578      0.503\r\n",
      "\r\n",
      "      Epoch    GPU_mem   box_loss   obj_loss   cls_loss  Instances       Size\r\n",
      "      74/99      7.12G    0.02479    0.01006   0.001332         49        640: 1\r\n",
      "                 Class     Images  Instances          P          R      mAP50   \r\n",
      "                   all        400        400      0.534      0.734      0.592      0.511\r\n",
      "\r\n",
      "      Epoch    GPU_mem   box_loss   obj_loss   cls_loss  Instances       Size\r\n",
      "      75/99      7.12G    0.02391    0.01005   0.001439         37        640: 1\r\n",
      "                 Class     Images  Instances          P          R      mAP50   \r\n",
      "                   all        400        400      0.579      0.679      0.567      0.483\r\n",
      "\r\n",
      "      Epoch    GPU_mem   box_loss   obj_loss   cls_loss  Instances       Size\r\n",
      "      76/99      7.12G    0.02411   0.009826   0.001344         36        640: 1\r\n",
      "                 Class     Images  Instances          P          R      mAP50   \r\n",
      "                   all        400        400      0.569      0.697      0.584      0.509\r\n",
      "\r\n",
      "      Epoch    GPU_mem   box_loss   obj_loss   cls_loss  Instances       Size\r\n",
      "      77/99      7.12G    0.02336   0.009651   0.001412         40        640: 1\r\n",
      "                 Class     Images  Instances          P          R      mAP50   \r\n",
      "                   all        400        400      0.552      0.686      0.577      0.507\r\n",
      "\r\n",
      "      Epoch    GPU_mem   box_loss   obj_loss   cls_loss  Instances       Size\r\n",
      "      78/99      7.12G    0.02321   0.009848   0.001433         33        640: 1\r\n",
      "                 Class     Images  Instances          P          R      mAP50   \r\n",
      "                   all        400        400      0.595       0.66      0.579      0.499\r\n",
      "\r\n",
      "      Epoch    GPU_mem   box_loss   obj_loss   cls_loss  Instances       Size\r\n",
      "      79/99      7.12G    0.02319   0.009746   0.001161         38        640: 1\r\n",
      "                 Class     Images  Instances          P          R      mAP50   \r\n",
      "                   all        400        400      0.549      0.692      0.576      0.506\r\n",
      "\r\n",
      "      Epoch    GPU_mem   box_loss   obj_loss   cls_loss  Instances       Size\r\n",
      "      80/99      7.12G    0.02251    0.00941    0.00136         38        640: 1\r\n",
      "                 Class     Images  Instances          P          R      mAP50   \r\n",
      "                   all        400        400      0.557      0.699      0.577      0.509\r\n",
      "\r\n",
      "      Epoch    GPU_mem   box_loss   obj_loss   cls_loss  Instances       Size\r\n",
      "      81/99      7.12G    0.02269   0.009603   0.001284         36        640: 1\r\n",
      "                 Class     Images  Instances          P          R      mAP50   \r\n",
      "                   all        400        400      0.551      0.739      0.594       0.52\r\n",
      "\r\n",
      "      Epoch    GPU_mem   box_loss   obj_loss   cls_loss  Instances       Size\r\n",
      "      82/99      7.12G    0.02204   0.009543   0.001174         38        640: 1\r\n",
      "                 Class     Images  Instances          P          R      mAP50   \r\n",
      "                   all        400        400      0.541      0.736      0.587      0.519\r\n",
      "\r\n",
      "      Epoch    GPU_mem   box_loss   obj_loss   cls_loss  Instances       Size\r\n",
      "      83/99      7.12G    0.02164   0.009404   0.001289         37        640: 1\r\n",
      "                 Class     Images  Instances          P          R      mAP50   \r\n",
      "                   all        400        400       0.54      0.728      0.576      0.511\r\n",
      "\r\n",
      "      Epoch    GPU_mem   box_loss   obj_loss   cls_loss  Instances       Size\r\n",
      "      84/99      7.12G    0.02136   0.009337   0.001194         44        640: 1\r\n",
      "                 Class     Images  Instances          P          R      mAP50   \r\n",
      "                   all        400        400      0.557      0.719      0.586      0.514\r\n",
      "\r\n",
      "      Epoch    GPU_mem   box_loss   obj_loss   cls_loss  Instances       Size\r\n",
      "      85/99      7.12G    0.02167   0.009488   0.001244         40        640: 1\r\n",
      "                 Class     Images  Instances          P          R      mAP50   \r\n",
      "                   all        400        400      0.549      0.706      0.588      0.508\r\n",
      "\r\n",
      "      Epoch    GPU_mem   box_loss   obj_loss   cls_loss  Instances       Size\r\n",
      "      86/99      7.12G    0.02089   0.009337   0.001304         39        640: 1\r\n",
      "                 Class     Images  Instances          P          R      mAP50   \r\n",
      "                   all        400        400      0.554      0.682      0.582      0.516\r\n",
      "\r\n",
      "      Epoch    GPU_mem   box_loss   obj_loss   cls_loss  Instances       Size\r\n",
      "      87/99      7.12G     0.0211   0.009262   0.001344         26        640: 1\r\n",
      "                 Class     Images  Instances          P          R      mAP50   \r\n",
      "                   all        400        400      0.542      0.711      0.587      0.519\r\n",
      "\r\n",
      "      Epoch    GPU_mem   box_loss   obj_loss   cls_loss  Instances       Size\r\n",
      "      88/99      7.12G    0.02095   0.009064   0.001124         30        640: 1\r\n",
      "                 Class     Images  Instances          P          R      mAP50   \r\n",
      "                   all        400        400      0.597      0.667      0.599      0.525\r\n",
      "\r\n",
      "      Epoch    GPU_mem   box_loss   obj_loss   cls_loss  Instances       Size\r\n",
      "      89/99      7.12G    0.02023   0.008992   0.001096         39        640: 1\r\n",
      "                 Class     Images  Instances          P          R      mAP50   \r\n",
      "                   all        400        400      0.563      0.695      0.592      0.523\r\n",
      "\r\n",
      "      Epoch    GPU_mem   box_loss   obj_loss   cls_loss  Instances       Size\r\n",
      "      90/99      7.12G    0.02099   0.009038   0.001148         34        640: 1\r\n",
      "                 Class     Images  Instances          P          R      mAP50   \r\n",
      "                   all        400        400      0.599      0.644       0.59      0.523\r\n",
      "\r\n",
      "      Epoch    GPU_mem   box_loss   obj_loss   cls_loss  Instances       Size\r\n",
      "      91/99      7.12G    0.01962   0.008967   0.001019         31        640: 1\r\n",
      "                 Class     Images  Instances          P          R      mAP50   \r\n",
      "                   all        400        400      0.659       0.63      0.601      0.532\r\n",
      "\r\n",
      "      Epoch    GPU_mem   box_loss   obj_loss   cls_loss  Instances       Size\r\n",
      "      92/99      7.12G    0.01989   0.008798   0.001062         40        640: 1\r\n",
      "                 Class     Images  Instances          P          R      mAP50   \r\n",
      "                   all        400        400      0.591      0.657        0.6      0.531\r\n",
      "\r\n",
      "      Epoch    GPU_mem   box_loss   obj_loss   cls_loss  Instances       Size\r\n",
      "      93/99      7.12G    0.01946   0.009045   0.001171         36        640: 1\r\n",
      "                 Class     Images  Instances          P          R      mAP50   \r\n",
      "                   all        400        400      0.579      0.677        0.6      0.529\r\n",
      "\r\n",
      "      Epoch    GPU_mem   box_loss   obj_loss   cls_loss  Instances       Size\r\n",
      "      94/99      7.12G    0.01948    0.00897   0.001031         37        640: 1\r\n",
      "                 Class     Images  Instances          P          R      mAP50   \r\n",
      "                   all        400        400      0.533      0.744      0.599      0.528\r\n",
      "\r\n",
      "      Epoch    GPU_mem   box_loss   obj_loss   cls_loss  Instances       Size\r\n",
      "      95/99      7.12G    0.01899   0.008992   0.001161         31        640: 1\r\n",
      "                 Class     Images  Instances          P          R      mAP50   \r\n",
      "                   all        400        400      0.597      0.655      0.593      0.526\r\n",
      "\r\n",
      "      Epoch    GPU_mem   box_loss   obj_loss   cls_loss  Instances       Size\r\n",
      "      96/99      7.12G    0.01911   0.008967   0.001123         36        640: 1\r\n",
      "                 Class     Images  Instances          P          R      mAP50   \r\n",
      "                   all        400        400      0.545      0.741      0.603      0.532\r\n",
      "\r\n",
      "      Epoch    GPU_mem   box_loss   obj_loss   cls_loss  Instances       Size\r\n",
      "      97/99      7.12G     0.0188   0.008767   0.001138         24        640: 1\r\n",
      "                 Class     Images  Instances          P          R      mAP50   \r\n",
      "                   all        400        400      0.546       0.74      0.603      0.532\r\n",
      "\r\n",
      "      Epoch    GPU_mem   box_loss   obj_loss   cls_loss  Instances       Size\r\n",
      "      98/99      7.12G    0.01915   0.008762   0.001254         41        640: 1\r\n",
      "                 Class     Images  Instances          P          R      mAP50   \r\n",
      "                   all        400        400      0.545      0.741      0.599      0.532\r\n",
      "\r\n",
      "      Epoch    GPU_mem   box_loss   obj_loss   cls_loss  Instances       Size\r\n",
      "      99/99      7.12G    0.01885   0.008526   0.001055         32        640: 1\r\n",
      "                 Class     Images  Instances          P          R      mAP50   \r\n",
      "                   all        400        400      0.541      0.741      0.598      0.528\r\n",
      "\r\n",
      "100 epochs completed in 2.756 hours.\r\n",
      "Optimizer stripped from yolo_vindr_12k_34_m/yolo_vindr_12k_1/weights/last.pt, 42.2MB\r\n",
      "Optimizer stripped from yolo_vindr_12k_34_m/yolo_vindr_12k_1/weights/best.pt, 42.2MB\r\n",
      "\r\n",
      "Validating yolo_vindr_12k_34_m/yolo_vindr_12k_1/weights/best.pt...\r\n",
      "Fusing layers... \r\n",
      "Model summary: 212 layers, 20856975 parameters, 0 gradients, 47.9 GFLOPs\r\n",
      "                 Class     Images  Instances          P          R      mAP50   \r\n",
      "                   all        400        400      0.546      0.736      0.602      0.531\r\n",
      "                Benign        400        197      0.682      0.975      0.828      0.827\r\n",
      "             Malignant        400        203      0.411      0.498      0.377      0.235\r\n",
      "Results saved to \u001b[1myolo_vindr_12k_34_m/yolo_vindr_12k_1\u001b[0m\r\n",
      "\u001b[34m\u001b[1mwandb\u001b[0m:                                                                                \r\n",
      "\u001b[34m\u001b[1mwandb\u001b[0m: \r\n",
      "\u001b[34m\u001b[1mwandb\u001b[0m: Run history:\r\n",
      "\u001b[34m\u001b[1mwandb\u001b[0m:      metrics/mAP_0.5 ▁▂▃▃▄▄▄▄▅▅▄▆▅▅▅▅▆▆▆▆▆▇▆▇▇▇▇▇▇██▇████████\r\n",
      "\u001b[34m\u001b[1mwandb\u001b[0m: metrics/mAP_0.5:0.95 ▁▁▂▂▃▃▃▄▄▄▃▄▅▅▅▅▅▅▅▆▆▆▆▆▆▆▇▇▇▇▇▇████████\r\n",
      "\u001b[34m\u001b[1mwandb\u001b[0m:    metrics/precision █▁▂▁▃▂▃▂▂▃▃▃▂▃▃▃▄▃▃▃▃▄▃▄▄▄▃▃▄▄▅▄▄▅▄▅▅▄▄▄\r\n",
      "\u001b[34m\u001b[1mwandb\u001b[0m:       metrics/recall ▁▃▄▄▄▅▄▅▄▅▃▆▆▄▆▆▆▆▆▆▇▆▇▆▆▇▇▇▇█▇▇█▇▇▇▆███\r\n",
      "\u001b[34m\u001b[1mwandb\u001b[0m:       train/box_loss █▅▅▄▄▄▄▄▃▃▃▃▃▃▃▃▃▃▂▂▂▂▂▂▂▂▂▂▂▂▂▁▁▁▁▁▁▁▁▁\r\n",
      "\u001b[34m\u001b[1mwandb\u001b[0m:       train/cls_loss █▂▂▂▁▂▁▂▁▁▁▁▁▁▁▁▁▁▁▁▁▁▁▁▁▁▁▁▁▁▁▁▁▁▁▁▁▁▁▁\r\n",
      "\u001b[34m\u001b[1mwandb\u001b[0m:       train/obj_loss █▄▄▄▄▄▃▃▃▃▃▃▃▃▃▃▃▃▃▃▃▂▂▂▂▂▂▂▂▂▂▂▂▁▁▁▁▁▁▁\r\n",
      "\u001b[34m\u001b[1mwandb\u001b[0m:         val/box_loss █▆▅▄▄▄▄▄▃▃▄▃▃▃▃▃▃▃▃▂▂▂▃▃▂▂▂▂▂▁▁▂▁▁▁▁▁▁▁▁\r\n",
      "\u001b[34m\u001b[1mwandb\u001b[0m:         val/cls_loss █▅▃▂▂▂▂▁▁▁▂▁▁▁▁▂▁▁▁▁▁▁▂▁▁▁▁▁▁▁▁▂▁▁▁▂▂▂▂▂\r\n",
      "\u001b[34m\u001b[1mwandb\u001b[0m:         val/obj_loss █▆▄▆▄▄▅▃▄▄▆▃▄▄▃▃▂▃▂▂▂▂▂▁▃▁▃▂▂▂▂▂▂▃▂▃▃▃▃▃\r\n",
      "\u001b[34m\u001b[1mwandb\u001b[0m:                x/lr0 █▂▂▂▂▂▂▂▂▂▂▂▂▂▂▂▂▂▂▂▁▁▁▁▁▁▁▁▁▁▁▁▁▁▁▁▁▁▁▁\r\n",
      "\u001b[34m\u001b[1mwandb\u001b[0m:                x/lr1 ▃████▇▇▇▇▇▆▆▆▆▆▅▅▅▅▅▅▄▄▄▄▄▃▃▃▃▃▃▂▂▂▂▂▁▁▁\r\n",
      "\u001b[34m\u001b[1mwandb\u001b[0m:                x/lr2 ▃████▇▇▇▇▇▆▆▆▆▆▅▅▅▅▅▅▄▄▄▄▄▃▃▃▃▃▃▂▂▂▂▂▁▁▁\r\n",
      "\u001b[34m\u001b[1mwandb\u001b[0m: \r\n",
      "\u001b[34m\u001b[1mwandb\u001b[0m: Run summary:\r\n",
      "\u001b[34m\u001b[1mwandb\u001b[0m:           best/epoch 97\r\n",
      "\u001b[34m\u001b[1mwandb\u001b[0m:         best/mAP_0.5 0.60334\r\n",
      "\u001b[34m\u001b[1mwandb\u001b[0m:    best/mAP_0.5:0.95 0.53187\r\n",
      "\u001b[34m\u001b[1mwandb\u001b[0m:       best/precision 0.54633\r\n",
      "\u001b[34m\u001b[1mwandb\u001b[0m:          best/recall 0.74\r\n",
      "\u001b[34m\u001b[1mwandb\u001b[0m:      metrics/mAP_0.5 0.60246\r\n",
      "\u001b[34m\u001b[1mwandb\u001b[0m: metrics/mAP_0.5:0.95 0.53125\r\n",
      "\u001b[34m\u001b[1mwandb\u001b[0m:    metrics/precision 0.54645\r\n",
      "\u001b[34m\u001b[1mwandb\u001b[0m:       metrics/recall 0.73608\r\n",
      "\u001b[34m\u001b[1mwandb\u001b[0m:       train/box_loss 0.01885\r\n",
      "\u001b[34m\u001b[1mwandb\u001b[0m:       train/cls_loss 0.00106\r\n",
      "\u001b[34m\u001b[1mwandb\u001b[0m:       train/obj_loss 0.00853\r\n",
      "\u001b[34m\u001b[1mwandb\u001b[0m:         val/box_loss 0.0277\r\n",
      "\u001b[34m\u001b[1mwandb\u001b[0m:         val/cls_loss 0.0012\r\n",
      "\u001b[34m\u001b[1mwandb\u001b[0m:         val/obj_loss 0.00587\r\n",
      "\u001b[34m\u001b[1mwandb\u001b[0m:                x/lr0 0.0003\r\n",
      "\u001b[34m\u001b[1mwandb\u001b[0m:                x/lr1 0.0003\r\n",
      "\u001b[34m\u001b[1mwandb\u001b[0m:                x/lr2 0.0003\r\n",
      "\u001b[34m\u001b[1mwandb\u001b[0m: \r\n",
      "\u001b[34m\u001b[1mwandb\u001b[0m: 🚀 View run \u001b[33myolo_vindr_12k_1\u001b[0m at: \u001b[34m\u001b[4mhttps://wandb.ai/road_dl/yolo_vindr_12k_34_m/runs/kenajvya\u001b[0m\r\n",
      "\u001b[34m\u001b[1mwandb\u001b[0m: ️⚡ View job at \u001b[34m\u001b[4mhttps://wandb.ai/road_dl/yolo_vindr_12k_34_m/jobs/QXJ0aWZhY3RDb2xsZWN0aW9uOjE1MjM0MjE5MA==/version_details/v1\u001b[0m\r\n",
      "\u001b[34m\u001b[1mwandb\u001b[0m: Synced 6 W&B file(s), 17 media file(s), 3 artifact file(s) and 0 other file(s)\r\n",
      "\u001b[34m\u001b[1mwandb\u001b[0m: Find logs at: \u001b[35m\u001b[1m./wandb/run-20240325_160407-kenajvya/logs\u001b[0m\r\n",
      "\u001b[34m\u001b[1mwandb\u001b[0m: WARNING ⚠️ wandb is deprecated and will be removed in a future release. See supported integrations at https://github.com/ultralytics/yolov5#integrations.\r\n"
     ]
    }
   ],
   "source": [
    "!python train.py --img 640 --epochs 100 --data /kaggle/input/12k-43-640-1-yaml/set_1.yaml --weights /kaggle/input/yolov5m2-weights/yolov5m.pt --name yolo_vindr_12k_1 --project yolo_vindr_12k_34_m --device 0 --workers 4"
   ]
  },
  {
   "cell_type": "code",
   "execution_count": 10,
   "id": "ea5eb5ba",
   "metadata": {
    "execution": {
     "iopub.execute_input": "2024-03-25T18:51:19.727982Z",
     "iopub.status.busy": "2024-03-25T18:51:19.727593Z",
     "iopub.status.idle": "2024-03-25T18:51:20.126198Z",
     "shell.execute_reply": "2024-03-25T18:51:20.125175Z"
    },
    "papermill": {
     "duration": 2.259535,
     "end_time": "2024-03-25T18:51:20.128244",
     "exception": false,
     "start_time": "2024-03-25T18:51:17.868709",
     "status": "completed"
    },
    "tags": []
   },
   "outputs": [
    {
     "name": "stdout",
     "output_type": "stream",
     "text": [
      "795\n"
     ]
    }
   ],
   "source": [
    "import os\n",
    "\n",
    "folder_path = \"/kaggle/input/vindr-12k-640-new-data/set_1/set_1/images/train\"\n",
    "\n",
    "# List all files in the folder\n",
    "files = os.listdir(folder_path)\n",
    "\n",
    "# Check if any file contains the word \"malignant\" in its name\n",
    "malignant_images = [file for file in files if \"Malignant\" in file]\n",
    "\n",
    "print(len(malignant_images))\n"
   ]
  },
  {
   "cell_type": "code",
   "execution_count": 11,
   "id": "15d6b64e",
   "metadata": {
    "execution": {
     "iopub.execute_input": "2024-03-25T18:51:24.062478Z",
     "iopub.status.busy": "2024-03-25T18:51:24.062062Z",
     "iopub.status.idle": "2024-03-25T18:51:24.512096Z",
     "shell.execute_reply": "2024-03-25T18:51:24.511202Z"
    },
    "papermill": {
     "duration": 2.41436,
     "end_time": "2024-03-25T18:51:24.514444",
     "exception": false,
     "start_time": "2024-03-25T18:51:22.100084",
     "status": "completed"
    },
    "tags": []
   },
   "outputs": [
    {
     "name": "stdout",
     "output_type": "stream",
     "text": [
      "Number of images in /kaggle/input/vindr-4k-test-640/vindr4k_test_640/images/train: 3184\n"
     ]
    }
   ],
   "source": [
    "\n",
    "\n",
    "import os\n",
    "\n",
    "# Directory path containing the images\n",
    "image_directory = r\"/kaggle/input/vindr-4k-test-640/vindr4k_test_640/images/train\"\n",
    "\n",
    "# List all files in the directory\n",
    "files = os.listdir(image_directory)\n",
    "\n",
    "# Filter files with .png extension\n",
    "image_files = [file for file in files if file.endswith('.png')]\n",
    "\n",
    "# Count the number of image files\n",
    "num_images = len(image_files)\n",
    "\n",
    "print(f\"Number of images in {image_directory}: {num_images}\")\n"
   ]
  },
  {
   "cell_type": "code",
   "execution_count": null,
   "id": "01a1b84e",
   "metadata": {
    "papermill": {
     "duration": 1.89005,
     "end_time": "2024-03-25T18:51:28.343700",
     "exception": false,
     "start_time": "2024-03-25T18:51:26.453650",
     "status": "completed"
    },
    "tags": []
   },
   "outputs": [],
   "source": []
  }
 ],
 "metadata": {
  "kaggle": {
   "accelerator": "gpu",
   "dataSources": [
    {
     "datasetId": 3879608,
     "sourceId": 6737162,
     "sourceType": "datasetVersion"
    },
    {
     "datasetId": 3879656,
     "sourceId": 6737251,
     "sourceType": "datasetVersion"
    },
    {
     "datasetId": 3879661,
     "sourceId": 6737259,
     "sourceType": "datasetVersion"
    },
    {
     "datasetId": 3880640,
     "sourceId": 6738825,
     "sourceType": "datasetVersion"
    },
    {
     "datasetId": 3880671,
     "sourceId": 6738883,
     "sourceType": "datasetVersion"
    },
    {
     "datasetId": 3880992,
     "sourceId": 6739446,
     "sourceType": "datasetVersion"
    },
    {
     "datasetId": 3881003,
     "sourceId": 6739463,
     "sourceType": "datasetVersion"
    },
    {
     "datasetId": 3883977,
     "sourceId": 6745408,
     "sourceType": "datasetVersion"
    },
    {
     "datasetId": 3883983,
     "sourceId": 6745420,
     "sourceType": "datasetVersion"
    },
    {
     "datasetId": 3884503,
     "sourceId": 6746474,
     "sourceType": "datasetVersion"
    },
    {
     "datasetId": 3884526,
     "sourceId": 6746517,
     "sourceType": "datasetVersion"
    },
    {
     "datasetId": 3892923,
     "sourceId": 6763967,
     "sourceType": "datasetVersion"
    },
    {
     "datasetId": 3892956,
     "sourceId": 6764020,
     "sourceType": "datasetVersion"
    },
    {
     "datasetId": 3902474,
     "sourceId": 6782222,
     "sourceType": "datasetVersion"
    },
    {
     "datasetId": 3907376,
     "sourceId": 6792083,
     "sourceType": "datasetVersion"
    },
    {
     "datasetId": 3907478,
     "sourceId": 6792221,
     "sourceType": "datasetVersion"
    },
    {
     "datasetId": 3907509,
     "sourceId": 6792271,
     "sourceType": "datasetVersion"
    },
    {
     "datasetId": 4411699,
     "sourceId": 7578412,
     "sourceType": "datasetVersion"
    },
    {
     "datasetId": 4411753,
     "sourceId": 7578540,
     "sourceType": "datasetVersion"
    },
    {
     "datasetId": 4420251,
     "sourceId": 7594154,
     "sourceType": "datasetVersion"
    },
    {
     "datasetId": 4420285,
     "sourceId": 7594219,
     "sourceType": "datasetVersion"
    },
    {
     "datasetId": 4423941,
     "sourceId": 7599740,
     "sourceType": "datasetVersion"
    },
    {
     "datasetId": 4423953,
     "sourceId": 7599757,
     "sourceType": "datasetVersion"
    },
    {
     "datasetId": 4479080,
     "sourceId": 7677954,
     "sourceType": "datasetVersion"
    },
    {
     "datasetId": 4484254,
     "sourceId": 7685042,
     "sourceType": "datasetVersion"
    },
    {
     "datasetId": 4484363,
     "sourceId": 7685190,
     "sourceType": "datasetVersion"
    },
    {
     "datasetId": 4492539,
     "sourceId": 7697072,
     "sourceType": "datasetVersion"
    },
    {
     "datasetId": 4520714,
     "sourceId": 7735604,
     "sourceType": "datasetVersion"
    },
    {
     "datasetId": 4547741,
     "sourceId": 7773255,
     "sourceType": "datasetVersion"
    },
    {
     "datasetId": 4548099,
     "sourceId": 7773709,
     "sourceType": "datasetVersion"
    },
    {
     "datasetId": 4548113,
     "sourceId": 7773728,
     "sourceType": "datasetVersion"
    },
    {
     "datasetId": 4548227,
     "sourceId": 7773881,
     "sourceType": "datasetVersion"
    },
    {
     "datasetId": 4550968,
     "sourceId": 7777530,
     "sourceType": "datasetVersion"
    },
    {
     "datasetId": 4553450,
     "sourceId": 7781181,
     "sourceType": "datasetVersion"
    },
    {
     "datasetId": 4554427,
     "sourceId": 7782511,
     "sourceType": "datasetVersion"
    },
    {
     "datasetId": 4555510,
     "sourceId": 7783959,
     "sourceType": "datasetVersion"
    },
    {
     "datasetId": 4557297,
     "sourceId": 7786304,
     "sourceType": "datasetVersion"
    },
    {
     "datasetId": 4560331,
     "sourceId": 7790803,
     "sourceType": "datasetVersion"
    },
    {
     "datasetId": 4561525,
     "sourceId": 7792388,
     "sourceType": "datasetVersion"
    },
    {
     "datasetId": 4565232,
     "sourceId": 7797627,
     "sourceType": "datasetVersion"
    },
    {
     "datasetId": 4565962,
     "sourceId": 7798585,
     "sourceType": "datasetVersion"
    },
    {
     "datasetId": 4570966,
     "sourceId": 7805558,
     "sourceType": "datasetVersion"
    },
    {
     "datasetId": 4589866,
     "sourceId": 7831604,
     "sourceType": "datasetVersion"
    },
    {
     "datasetId": 4589883,
     "sourceId": 7831626,
     "sourceType": "datasetVersion"
    },
    {
     "datasetId": 4609345,
     "sourceId": 7858226,
     "sourceType": "datasetVersion"
    },
    {
     "datasetId": 4609374,
     "sourceId": 7858275,
     "sourceType": "datasetVersion"
    },
    {
     "datasetId": 4644083,
     "sourceId": 7906185,
     "sourceType": "datasetVersion"
    },
    {
     "datasetId": 4644103,
     "sourceId": 7906215,
     "sourceType": "datasetVersion"
    },
    {
     "datasetId": 4647653,
     "sourceId": 7911208,
     "sourceType": "datasetVersion"
    },
    {
     "datasetId": 4647685,
     "sourceId": 7911266,
     "sourceType": "datasetVersion"
    },
    {
     "datasetId": 4647742,
     "sourceId": 7911337,
     "sourceType": "datasetVersion"
    },
    {
     "datasetId": 4647749,
     "sourceId": 7911347,
     "sourceType": "datasetVersion"
    },
    {
     "datasetId": 4648795,
     "sourceId": 7912720,
     "sourceType": "datasetVersion"
    },
    {
     "datasetId": 4648814,
     "sourceId": 7912751,
     "sourceType": "datasetVersion"
    },
    {
     "datasetId": 4649711,
     "sourceId": 7913920,
     "sourceType": "datasetVersion"
    },
    {
     "datasetId": 4649724,
     "sourceId": 7913934,
     "sourceType": "datasetVersion"
    },
    {
     "datasetId": 4654675,
     "sourceId": 7920858,
     "sourceType": "datasetVersion"
    },
    {
     "datasetId": 4654731,
     "sourceId": 7920931,
     "sourceType": "datasetVersion"
    },
    {
     "datasetId": 4660265,
     "sourceId": 7929025,
     "sourceType": "datasetVersion"
    },
    {
     "datasetId": 4660278,
     "sourceId": 7929043,
     "sourceType": "datasetVersion"
    },
    {
     "datasetId": 4664557,
     "sourceId": 7935124,
     "sourceType": "datasetVersion"
    },
    {
     "datasetId": 4664574,
     "sourceId": 7935143,
     "sourceType": "datasetVersion"
    },
    {
     "datasetId": 4664774,
     "sourceId": 7935421,
     "sourceType": "datasetVersion"
    },
    {
     "datasetId": 4664799,
     "sourceId": 7935459,
     "sourceType": "datasetVersion"
    },
    {
     "datasetId": 4665788,
     "sourceId": 7936841,
     "sourceType": "datasetVersion"
    },
    {
     "datasetId": 4665801,
     "sourceId": 7936859,
     "sourceType": "datasetVersion"
    },
    {
     "datasetId": 4667676,
     "sourceId": 7939474,
     "sourceType": "datasetVersion"
    },
    {
     "datasetId": 4667684,
     "sourceId": 7939483,
     "sourceType": "datasetVersion"
    }
   ],
   "isGpuEnabled": true,
   "isInternetEnabled": true,
   "language": "python",
   "sourceType": "notebook"
  },
  "kernelspec": {
   "display_name": "Python 3",
   "language": "python",
   "name": "python3"
  },
  "language_info": {
   "codemirror_mode": {
    "name": "ipython",
    "version": 3
   },
   "file_extension": ".py",
   "mimetype": "text/x-python",
   "name": "python",
   "nbconvert_exporter": "python",
   "pygments_lexer": "ipython3",
   "version": "3.10.13"
  },
  "papermill": {
   "default_parameters": {},
   "duration": 10151.713014,
   "end_time": "2024-03-25T18:51:30.657066",
   "environment_variables": {},
   "exception": null,
   "input_path": "__notebook__.ipynb",
   "output_path": "__notebook__.ipynb",
   "parameters": {},
   "start_time": "2024-03-25T16:02:18.944052",
   "version": "2.5.0"
  }
 },
 "nbformat": 4,
 "nbformat_minor": 5
}
